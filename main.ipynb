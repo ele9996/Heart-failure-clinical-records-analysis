{
  "nbformat": 4,
  "nbformat_minor": 0,
  "metadata": {
    "colab": {
      "name": "main.ipynb",
      "provenance": [],
      "collapsed_sections": [],
      "toc_visible": true,
      "authorship_tag": "ABX9TyOhwqMHl4jddd5HEms46AiE",
      "include_colab_link": true
    },
    "kernelspec": {
      "name": "python3",
      "display_name": "Python 3"
    }
  },
  "cells": [
    {
      "cell_type": "markdown",
      "metadata": {
        "id": "view-in-github",
        "colab_type": "text"
      },
      "source": [
        "<a href=\"https://colab.research.google.com/github/ele9996/Heart-failure-clinical-records-analysis/blob/master/main.ipynb\" target=\"_parent\"><img src=\"https://colab.research.google.com/assets/colab-badge.svg\" alt=\"Open In Colab\"/></a>"
      ]
    },
    {
      "cell_type": "markdown",
      "metadata": {
        "id": "BQ3RhrjPV1W_",
        "colab_type": "text"
      },
      "source": [
        "\n",
        "##Import useful libraries\n"
      ]
    },
    {
      "cell_type": "code",
      "metadata": {
        "id": "cmfFgrcAUAQl",
        "colab_type": "code",
        "colab": {}
      },
      "source": [
        "import numpy as np\n",
        "import matplotlib.pyplot as plt\n",
        "import seaborn as sns\n",
        "import pandas as pd\n",
        "import os\n",
        "import random as rand\n",
        "\n",
        "from sklearn.preprocessing import StandardScaler\n",
        "from sklearn.model_selection import train_test_split\n",
        "from sklearn.decomposition import PCA\n",
        "from sklearn.model_selection import KFold\n",
        "from sklearn import svm\n",
        "from math import sqrt\n",
        "from sklearn.linear_model import LogisticRegression\n",
        "from sklearn.ensemble import RandomForestClassifier\n",
        "from sklearn.metrics import accuracy_score, precision_score,recall_score, f1_score\n",
        "from numpy import mean\n",
        "\n",
        "#np.random.seed(123)"
      ],
      "execution_count": 57,
      "outputs": []
    },
    {
      "cell_type": "markdown",
      "metadata": {
        "id": "EYxylTYez4Wc",
        "colab_type": "text"
      },
      "source": [
        "##Defining metrics for conclusion table"
      ]
    },
    {
      "cell_type": "code",
      "metadata": {
        "id": "GCrhwtAU1ezt",
        "colab_type": "code",
        "colab": {}
      },
      "source": [
        "acc_original=[0,0,0,0]\n",
        "acc_smote=[0,0,0,0]\n",
        "f1_original=[0,0,0,0]\n",
        "f1_smote=[0,0,0,0]\n",
        "f1_original_cv=[0,0,0,0]\n",
        "f1_smote_cv=[0,0,0,0]\n",
        "acc_original_cv=[0,0,0,0]\n",
        "acc_smote_cv=[0,0,0,0]"
      ],
      "execution_count": 58,
      "outputs": []
    },
    {
      "cell_type": "markdown",
      "metadata": {
        "id": "BsU-q3udxASD",
        "colab_type": "text"
      },
      "source": [
        "#Heart failure data analysis\n",
        "#Introduction\n",
        "\n",
        "The goal of the project is to try to predict if a patient with heart failure is likely to survive or not given certain medical records regarding clinical, body and lifestyle information.\n",
        "\n",
        "Heart failure (HF) is a illness that occurs when the heart cannot pump enough blood to meet the needs of the body.\n",
        "\n",
        "In order to try to make predictions about this topic I took into consideration a dataset containing the medical records of 299 heart failure patients collected both at the Faisalabad Institute of Cardiology and at the Allied Hospital in Faisalabad (Punjab, Pakistan), during April–December 2015.\n",
        "\n",
        "The subject taken into consideration for my study are 105 women and 194 men whose age range in between 40 and 90.\n",
        "\n",
        "The dataset analyzed contains the medical records of 299 heart failure patients consisting of 105 women and 194 men whoes ages range between 40 and 95 years old.\n",
        "\n",
        "In this project several classifiers will be tested in order to obtain the best results and several machine learning tecniques will be applied to the data in order to get the best out of them \n"
      ]
    },
    {
      "cell_type": "markdown",
      "metadata": {
        "id": "-vQxib7btQxV",
        "colab_type": "text"
      },
      "source": [
        "#Dataset description\n",
        "The first step to start the analysis is studing the overall characteristics of the dataset.\n",
        "A summary them is provided by the following table:\n",
        "\n",
        "\n",
        " ![Dataset Description](https://github.com/ele9996/Heart-failure-clinical-records-analysis/blob/master/report_images/dataset_characteristics.JPG?raw=true)\n",
        "\n",
        "\n",
        "\n"
      ]
    },
    {
      "cell_type": "markdown",
      "metadata": {
        "id": "gTkyuiol1Idh",
        "colab_type": "text"
      },
      "source": [
        "From the table it is possible to notice the presence of 299 entries all defined by Integer or real numbers.\n",
        "The description states also that there are no missing value in the collection.\n",
        "\n",
        "The dataset is composed by 13 total features.\n",
        "The first 12 represent the real features on which the analysis is based while the last one (DEATH_EVENT) represents the target variable.\n",
        "\n",
        "In order to better understand the meaning of the features in their domain field and to quantifity them better another table containing this information is provided.\n",
        "\n",
        "\n",
        "In particular the table contains a description of every feature in the dataset. \n",
        "\n",
        "Also other information like the unit of measurement and the range to which each feature belongs are given.\n",
        "\n",
        "\n",
        "![feature Description](https://github.com/ele9996/Heart-failure-clinical-records-analysis/blob/master/report_images/feature_description.JPG?raw=true)\n"
      ]
    },
    {
      "cell_type": "markdown",
      "metadata": {
        "id": "ML97pQaeV99E",
        "colab_type": "text"
      },
      "source": [
        "#Dataset visualization and data exploration\n"
      ]
    },
    {
      "cell_type": "markdown",
      "metadata": {
        "id": "ZZ5YJxhov2nl",
        "colab_type": "text"
      },
      "source": [
        "After understanding the features characterizing the dataset it's time to have a closer look at the entries.\n",
        "\n",
        "The following table provides a sample visualization of the data:\n",
        "\n"
      ]
    },
    {
      "cell_type": "code",
      "metadata": {
        "id": "jW-_PF50WuKr",
        "colab_type": "code",
        "colab": {
          "base_uri": "https://localhost:8080/",
          "height": 422
        },
        "outputId": "ae5419c2-c68f-47d9-ebfb-e269ba857367"
      },
      "source": [
        "#Dataset import and graphical visualization\n",
        "df = pd.read_csv('https://raw.githubusercontent.com/ele9996/Heart-failure-clinical-records-analysis/master/heart_failure_clinical_records_dataset.csv')\n",
        "df\n"
      ],
      "execution_count": 59,
      "outputs": [
        {
          "output_type": "execute_result",
          "data": {
            "text/html": [
              "<div>\n",
              "<style scoped>\n",
              "    .dataframe tbody tr th:only-of-type {\n",
              "        vertical-align: middle;\n",
              "    }\n",
              "\n",
              "    .dataframe tbody tr th {\n",
              "        vertical-align: top;\n",
              "    }\n",
              "\n",
              "    .dataframe thead th {\n",
              "        text-align: right;\n",
              "    }\n",
              "</style>\n",
              "<table border=\"1\" class=\"dataframe\">\n",
              "  <thead>\n",
              "    <tr style=\"text-align: right;\">\n",
              "      <th></th>\n",
              "      <th>age</th>\n",
              "      <th>anaemia</th>\n",
              "      <th>creatinine_phosphokinase</th>\n",
              "      <th>diabetes</th>\n",
              "      <th>ejection_fraction</th>\n",
              "      <th>high_blood_pressure</th>\n",
              "      <th>platelets</th>\n",
              "      <th>serum_creatinine</th>\n",
              "      <th>serum_sodium</th>\n",
              "      <th>sex</th>\n",
              "      <th>smoking</th>\n",
              "      <th>time</th>\n",
              "      <th>DEATH_EVENT</th>\n",
              "    </tr>\n",
              "  </thead>\n",
              "  <tbody>\n",
              "    <tr>\n",
              "      <th>0</th>\n",
              "      <td>75.0</td>\n",
              "      <td>0</td>\n",
              "      <td>582</td>\n",
              "      <td>0</td>\n",
              "      <td>20</td>\n",
              "      <td>1</td>\n",
              "      <td>265000.00</td>\n",
              "      <td>1.9</td>\n",
              "      <td>130</td>\n",
              "      <td>1</td>\n",
              "      <td>0</td>\n",
              "      <td>4</td>\n",
              "      <td>1</td>\n",
              "    </tr>\n",
              "    <tr>\n",
              "      <th>1</th>\n",
              "      <td>55.0</td>\n",
              "      <td>0</td>\n",
              "      <td>7861</td>\n",
              "      <td>0</td>\n",
              "      <td>38</td>\n",
              "      <td>0</td>\n",
              "      <td>263358.03</td>\n",
              "      <td>1.1</td>\n",
              "      <td>136</td>\n",
              "      <td>1</td>\n",
              "      <td>0</td>\n",
              "      <td>6</td>\n",
              "      <td>1</td>\n",
              "    </tr>\n",
              "    <tr>\n",
              "      <th>2</th>\n",
              "      <td>65.0</td>\n",
              "      <td>0</td>\n",
              "      <td>146</td>\n",
              "      <td>0</td>\n",
              "      <td>20</td>\n",
              "      <td>0</td>\n",
              "      <td>162000.00</td>\n",
              "      <td>1.3</td>\n",
              "      <td>129</td>\n",
              "      <td>1</td>\n",
              "      <td>1</td>\n",
              "      <td>7</td>\n",
              "      <td>1</td>\n",
              "    </tr>\n",
              "    <tr>\n",
              "      <th>3</th>\n",
              "      <td>50.0</td>\n",
              "      <td>1</td>\n",
              "      <td>111</td>\n",
              "      <td>0</td>\n",
              "      <td>20</td>\n",
              "      <td>0</td>\n",
              "      <td>210000.00</td>\n",
              "      <td>1.9</td>\n",
              "      <td>137</td>\n",
              "      <td>1</td>\n",
              "      <td>0</td>\n",
              "      <td>7</td>\n",
              "      <td>1</td>\n",
              "    </tr>\n",
              "    <tr>\n",
              "      <th>4</th>\n",
              "      <td>65.0</td>\n",
              "      <td>1</td>\n",
              "      <td>160</td>\n",
              "      <td>1</td>\n",
              "      <td>20</td>\n",
              "      <td>0</td>\n",
              "      <td>327000.00</td>\n",
              "      <td>2.7</td>\n",
              "      <td>116</td>\n",
              "      <td>0</td>\n",
              "      <td>0</td>\n",
              "      <td>8</td>\n",
              "      <td>1</td>\n",
              "    </tr>\n",
              "    <tr>\n",
              "      <th>...</th>\n",
              "      <td>...</td>\n",
              "      <td>...</td>\n",
              "      <td>...</td>\n",
              "      <td>...</td>\n",
              "      <td>...</td>\n",
              "      <td>...</td>\n",
              "      <td>...</td>\n",
              "      <td>...</td>\n",
              "      <td>...</td>\n",
              "      <td>...</td>\n",
              "      <td>...</td>\n",
              "      <td>...</td>\n",
              "      <td>...</td>\n",
              "    </tr>\n",
              "    <tr>\n",
              "      <th>294</th>\n",
              "      <td>62.0</td>\n",
              "      <td>0</td>\n",
              "      <td>61</td>\n",
              "      <td>1</td>\n",
              "      <td>38</td>\n",
              "      <td>1</td>\n",
              "      <td>155000.00</td>\n",
              "      <td>1.1</td>\n",
              "      <td>143</td>\n",
              "      <td>1</td>\n",
              "      <td>1</td>\n",
              "      <td>270</td>\n",
              "      <td>0</td>\n",
              "    </tr>\n",
              "    <tr>\n",
              "      <th>295</th>\n",
              "      <td>55.0</td>\n",
              "      <td>0</td>\n",
              "      <td>1820</td>\n",
              "      <td>0</td>\n",
              "      <td>38</td>\n",
              "      <td>0</td>\n",
              "      <td>270000.00</td>\n",
              "      <td>1.2</td>\n",
              "      <td>139</td>\n",
              "      <td>0</td>\n",
              "      <td>0</td>\n",
              "      <td>271</td>\n",
              "      <td>0</td>\n",
              "    </tr>\n",
              "    <tr>\n",
              "      <th>296</th>\n",
              "      <td>45.0</td>\n",
              "      <td>0</td>\n",
              "      <td>2060</td>\n",
              "      <td>1</td>\n",
              "      <td>60</td>\n",
              "      <td>0</td>\n",
              "      <td>742000.00</td>\n",
              "      <td>0.8</td>\n",
              "      <td>138</td>\n",
              "      <td>0</td>\n",
              "      <td>0</td>\n",
              "      <td>278</td>\n",
              "      <td>0</td>\n",
              "    </tr>\n",
              "    <tr>\n",
              "      <th>297</th>\n",
              "      <td>45.0</td>\n",
              "      <td>0</td>\n",
              "      <td>2413</td>\n",
              "      <td>0</td>\n",
              "      <td>38</td>\n",
              "      <td>0</td>\n",
              "      <td>140000.00</td>\n",
              "      <td>1.4</td>\n",
              "      <td>140</td>\n",
              "      <td>1</td>\n",
              "      <td>1</td>\n",
              "      <td>280</td>\n",
              "      <td>0</td>\n",
              "    </tr>\n",
              "    <tr>\n",
              "      <th>298</th>\n",
              "      <td>50.0</td>\n",
              "      <td>0</td>\n",
              "      <td>196</td>\n",
              "      <td>0</td>\n",
              "      <td>45</td>\n",
              "      <td>0</td>\n",
              "      <td>395000.00</td>\n",
              "      <td>1.6</td>\n",
              "      <td>136</td>\n",
              "      <td>1</td>\n",
              "      <td>1</td>\n",
              "      <td>285</td>\n",
              "      <td>0</td>\n",
              "    </tr>\n",
              "  </tbody>\n",
              "</table>\n",
              "<p>299 rows × 13 columns</p>\n",
              "</div>"
            ],
            "text/plain": [
              "      age  anaemia  creatinine_phosphokinase  ...  smoking  time  DEATH_EVENT\n",
              "0    75.0        0                       582  ...        0     4            1\n",
              "1    55.0        0                      7861  ...        0     6            1\n",
              "2    65.0        0                       146  ...        1     7            1\n",
              "3    50.0        1                       111  ...        0     7            1\n",
              "4    65.0        1                       160  ...        0     8            1\n",
              "..    ...      ...                       ...  ...      ...   ...          ...\n",
              "294  62.0        0                        61  ...        1   270            0\n",
              "295  55.0        0                      1820  ...        0   271            0\n",
              "296  45.0        0                      2060  ...        0   278            0\n",
              "297  45.0        0                      2413  ...        1   280            0\n",
              "298  50.0        0                       196  ...        1   285            0\n",
              "\n",
              "[299 rows x 13 columns]"
            ]
          },
          "metadata": {
            "tags": []
          },
          "execution_count": 59
        }
      ]
    },
    {
      "cell_type": "markdown",
      "metadata": {
        "id": "QW48PvXfaxB8",
        "colab_type": "text"
      },
      "source": [
        "After fouther analysis it is possible to notice the presence of both categorical features and numerical features.\n",
        "\n",
        "The categorical features are: \n",
        "\n",
        "\n",
        "*   anaemia\n",
        "*   diabetes\n",
        "*   high_blood_pressure\n",
        "*   sex\n",
        "*   smoking\n",
        "*   DEATH_EVENT(target variable)\n",
        "\n",
        "All categorical features are binary (yes/no) features and are encoded in (0-1) notation\n",
        "\n",
        "The numerical features are:\n",
        "\n",
        "\n",
        "*   age\n",
        "*   creatinine_phosphokinase\n",
        "*   ejection_fraction\n",
        "*   platelets\n",
        "*   serum_creatinine\n",
        "*   serum_sodium\n",
        "*   time\n",
        "\n",
        "\n",
        "Since the target variable is categorical, the problem is binary and so an analysis based on binary classification will be performed."
      ]
    },
    {
      "cell_type": "markdown",
      "metadata": {
        "id": "2atjgytkOVCN",
        "colab_type": "text"
      },
      "source": [
        "##Null entries check\n",
        "According to what the dataset description says there shouldn't be null entries in the collections.\n",
        "\n",
        "But since handling clean data is a priority in the analysis in order to not alterate results, a fourther check will be performed.\n"
      ]
    },
    {
      "cell_type": "code",
      "metadata": {
        "id": "d9UOAYUCOgCt",
        "colab_type": "code",
        "colab": {
          "base_uri": "https://localhost:8080/",
          "height": 34
        },
        "outputId": "ddd5a793-8bad-4541-ae53-7a8c33b9c274"
      },
      "source": [
        "df.isnull().values.any()"
      ],
      "execution_count": 60,
      "outputs": [
        {
          "output_type": "execute_result",
          "data": {
            "text/plain": [
              "False"
            ]
          },
          "metadata": {
            "tags": []
          },
          "execution_count": 60
        }
      ]
    },
    {
      "cell_type": "markdown",
      "metadata": {
        "id": "tYhMyoC9oXHd",
        "colab_type": "text"
      },
      "source": [
        "As we can see from the output of the previous code the description statement was correct and there are no null entries in the dataset.\n",
        "Since data seems to be consistent and right recorder no further data cleaning measurements are needed"
      ]
    },
    {
      "cell_type": "markdown",
      "metadata": {
        "id": "1T3Dksadv1dT",
        "colab_type": "text"
      },
      "source": [
        "##Correlation study\n",
        "In order to know more informations about the attributes and to analyze them better it's important to study their mutual relationships.\n",
        "\n",
        "One important relation worth considering is the **correlation** between attributes.\n",
        "\n",
        "Correlation is a function of another quantity called the **covariance** whose formula is reported below:\n",
        "\n",
        "$\\;\\;\\;\\;\\;\\;\\;\\;\\;\\;\\;\\;\\;\\;\\;\\;\\;\\;\\;\\;\\;\\;\\;\\;\\;\\;\\;\\;\\;\\;\\;\\;\\;\\;\\;\\;\\;\\;\\;\\;cov_{x,y}=\\frac{\\sum_{i=1}^{N}(x_{i}-\\bar{x})(y_{i}-\\bar{y})}{N-1}$\n",
        "\n",
        "Covariance provides us information about trends in data which can be: \n",
        "- ascending trend ($cov_{x,y}>0$)\n",
        "- descending trend ($cov_{x,y}<0$)\n",
        "- no trend ($cov_{x,y}=0$)\n",
        "\n",
        "Even if covariance seems to be a good measure to estimate relationship between data it is not: in fact covariance is highly dependent on the scale of the data \n",
        "and so it's interpretation may result very difficult.\n",
        "\n",
        "However Correlation is extremely important in the calculation of the Pearson correlation between attributes.\n",
        "\n",
        "Pearson correlation is a quantity that ranges between -1 and +1 and defines the degree to which a pair of variables are linearly related. \n",
        "\n",
        "It is a good measure in estimating data relationships because doesn't depend on the scale of the data.\n",
        "\n",
        "The formula for calculating correlation is provided below: \n",
        "\n",
        "\n",
        "${\\;\\;\\;\\;\\;\\;\\;\\;\\;\\;\\;\\;\\;\\;\\;\\;\\;\\;\\;\\;\\;\\;\\;\\;\\;\\;\\;\\;\\;\\;\\;\\;\\;\\;\\;\\;\\;\\;\\;\\;\\displaystyle \\rho _{X,Y}={\\frac {\\operatorname {cov} (X,Y)}{\\sigma _{X}\\sigma _{Y}}}}$\n",
        "\n",
        "A visual representation of correlation is provided by the following figure:\n",
        "\n",
        "![correlation](https://github.com/ele9996/Heart-failure-clinical-records-analysis/blob/master/report_images/correlation.JPG?raw=true)\n",
        "\n",
        "\n",
        "To study Correlation between features in my data and in order to visualize them better a **Correlation Matrix** containing correlation coefficients is displayed below.\n",
        "\n",
        "Since categorical variables are encoded in 0-1 notation it is possible to apply Pearson correlation also to them.\n",
        "\n",
        "This kind of correlation is called \"Point Biserial Correlation\"."
      ]
    },
    {
      "cell_type": "code",
      "metadata": {
        "id": "I9tXxEeHv1NT",
        "colab_type": "code",
        "colab": {
          "base_uri": "https://localhost:8080/",
          "height": 570
        },
        "outputId": "8ec6db5c-7f5e-4eca-c39c-a5821d747ecf"
      },
      "source": [
        "#I calculate correlation and print the correlation matrix\n",
        "corr = df.corr()\n",
        "fig, ax = plt.subplots(figsize=(8,7)) \n",
        "sns.heatmap(corr, annot=True, fmt=\".2f\", ax=ax,cmap='coolwarm')\n",
        "\n"
      ],
      "execution_count": 61,
      "outputs": [
        {
          "output_type": "execute_result",
          "data": {
            "text/plain": [
              "<matplotlib.axes._subplots.AxesSubplot at 0x7f0a0dd0aeb8>"
            ]
          },
          "metadata": {
            "tags": []
          },
          "execution_count": 61
        },
        {
          "output_type": "display_data",
          "data": {
            "image/png": "[encoded data removed]",
            "text/plain": [
              "<Figure size 576x504 with 2 Axes>"
            ]
          },
          "metadata": {
            "tags": [],
            "needs_background": "light"
          }
        }
      ]
    },
    {
      "cell_type": "markdown",
      "metadata": {
        "id": "4IZP3oV-wWPN",
        "colab_type": "text"
      },
      "source": [
        "In the heatmap it is possible to notice two main colors: Red and Blue.\n",
        "\n",
        "The higher the correlation index becomes the closer the cell color tends to be red.\n",
        "\n",
        "In the matrix it is possible to notice that there are no attributes that are significantly correlated.\n",
        "\n"
      ]
    },
    {
      "cell_type": "markdown",
      "metadata": {
        "id": "OmGISTaOIo9a",
        "colab_type": "text"
      },
      "source": [
        "##Data preparation"
      ]
    },
    {
      "cell_type": "code",
      "metadata": {
        "id": "lShoLJ7omhsw",
        "colab_type": "code",
        "colab": {}
      },
      "source": [
        "#to function\n",
        "\n",
        "features = ['age','anaemia','creatinine_phosphokinase','diabetes','ejection_fraction','high_blood_pressure','platelets','serum_creatinine','serum_sodium','sex','smoking','time']\n",
        "numerical_features=[features[0],features[2],features[4],features[6],features[7],features[8],features[11]]\n",
        "categorical_features=[features[1],features[3],features[5],features[9],features[10]]\n",
        "\n",
        "#Taking the features and placing in an array\n",
        "x = df.loc[:, features].values\n",
        "x_numerical=df.loc[:,numerical_features].values\n",
        "\n",
        "x_categorical=df.loc[:,categorical_features].values\n",
        "\n",
        "#Separating the target\n",
        "y = df.loc[:,['DEATH_EVENT']].values#\n",
        "\n",
        "\n",
        "\n",
        "x_Df = pd.DataFrame(data = x, columns = features)\n",
        "x_numerical_Df = pd.DataFrame(data = x_numerical, columns = numerical_features)\n",
        "x_categorical_Df = pd.DataFrame(data = x_categorical, columns = categorical_features)\n",
        "y_df=pd.DataFrame(data = y, columns = ['DEATH_EVENT'])\n",
        "\n",
        "\n",
        "\n"
      ],
      "execution_count": 62,
      "outputs": []
    },
    {
      "cell_type": "markdown",
      "metadata": {
        "id": "bFeWWxtKI5Xx",
        "colab_type": "text"
      },
      "source": [
        "#Features distribution visualization\n",
        "Another characteristic of the dataset worth studying is the features distribution over the target variable \"DEATH_EVENT\".\n",
        "\n",
        "In this chapter a distinction between numerical and categorical features is performed in terms of visualization.\n",
        "\n",
        "In particular for **numerical** features, in order to detect the presence of outliers, a **boxplot** seems to be the most appropriate choice.\n",
        "\n",
        "Concerning **categorical** features a **countplot/barplot** seems to be is\n",
        "\n",
        "For both categorical and numerical features a plot of the distibution is given.\n"
      ]
    },
    {
      "cell_type": "markdown",
      "metadata": {
        "id": "Kb5HrTfBjGWN",
        "colab_type": "text"
      },
      "source": [
        "###Numerical features\n",
        "The following images contain the distribution of each numerical features with respect to the target variable \"DEATH_EVENT\""
      ]
    },
    {
      "cell_type": "code",
      "metadata": {
        "id": "DiPODcbHJGc1",
        "colab_type": "code",
        "colab": {
          "base_uri": "https://localhost:8080/",
          "height": 1000
        },
        "outputId": "a43650f6-680b-4f09-c162-628571a4c54b"
      },
      "source": [
        "#Visualizing the selected features\n",
        "\n",
        "fig = plt.figure(figsize = (10, 50))\n",
        "j = 0\n",
        "for i in x_numerical_Df.columns:\n",
        "    plt.subplot(12, 2, j+1)\n",
        "    j += 1\n",
        "    \n",
        "    sns.distplot(x_numerical_Df[i][df['DEATH_EVENT']==0], color='b', label = 'Alive')\n",
        "    sns.distplot(x_numerical_Df[i][df['DEATH_EVENT']==1], color='r', label = 'Dead')\n",
        "    plt.legend(loc='best')\n",
        "    plt.legend(loc='best')\n",
        "    plt.subplot(12, 2, j+1)\n",
        "    j += 1\n",
        "    sns.boxplot(x='DEATH_EVENT', y=x_numerical_Df[i], data=df)\n",
        "\n",
        "fig.suptitle('Heart failure data analysis')\n",
        "fig.tight_layout()\n",
        "fig.subplots_adjust(top=0.95)\n",
        "plt.show()"
      ],
      "execution_count": 63,
      "outputs": [
        {
          "output_type": "display_data",
          "data": {
            "image/png": "[encoded data removed]",
            "text/plain": [
              "<Figure size 720x3600 with 14 Axes>"
            ]
          },
          "metadata": {
            "tags": [],
            "needs_background": "light"
          }
        }
      ]
    },
    {
      "cell_type": "markdown",
      "metadata": {
        "id": "CgRIvDGdrdB9",
        "colab_type": "text"
      },
      "source": [
        "From the figures it is possible to notice the presence of several outliers in particular in some body values related features.\n",
        "\n",
        "Through a carefully study of the domain field I discovered that the outlier entries seems not to be impossible values for the considered features.\n",
        "\n",
        "Therefore I concluded that it's very improbable for them to be data recoding errors (like for example a 1km for \"height_measure\" or 200 years old for \"Age\" measure).\n",
        "\n",
        "For this reason I decided to keep them and going on with the analysis.\n",
        "\n"
      ]
    },
    {
      "cell_type": "markdown",
      "metadata": {
        "id": "-3vDTZBUjLTC",
        "colab_type": "text"
      },
      "source": [
        "###Categorical features\n",
        "\n",
        "In the following images the categorical features distribution over the target variable \"DEATH_EVENT\" is represented."
      ]
    },
    {
      "cell_type": "code",
      "metadata": {
        "id": "pDrInspKnhlc",
        "colab_type": "code",
        "colab": {
          "base_uri": "https://localhost:8080/",
          "height": 1000
        },
        "outputId": "400fa141-2fec-42ef-cca9-50413869eb44"
      },
      "source": [
        "fig = plt.figure(figsize = (10, 50))\n",
        "j = 0\n",
        "for i in x_categorical_Df.columns:\n",
        "    plt.subplot(12, 2, j+1)\n",
        "    j += 1\n",
        "    \n",
        "    sns.distplot(x_categorical_Df[i][df['DEATH_EVENT']==0], color='b', label = 'Alive')\n",
        "    sns.distplot(x_categorical_Df[i][df['DEATH_EVENT']==1], color='r', label = 'Dead')\n",
        "    plt.legend(loc='best')\n",
        "    plt.legend(loc='best')\n",
        "    plt.subplot(12, 2, j+1)\n",
        "    j += 1\n",
        "    sns.countplot(x = x_categorical_Df[i], hue = 'DEATH_EVENT', data = df)\n",
        "\n",
        "fig.suptitle('Heart failure data analysis')\n",
        "fig.tight_layout()\n",
        "fig.subplots_adjust(top=0.95)\n",
        "plt.show()"
      ],
      "execution_count": 64,
      "outputs": [
        {
          "output_type": "display_data",
          "data": {
            "image/png": "[encoded data removed]",
            "text/plain": [
              "<Figure size 720x3600 with 10 Axes>"
            ]
          },
          "metadata": {
            "tags": [],
            "needs_background": "light"
          }
        }
      ]
    },
    {
      "cell_type": "markdown",
      "metadata": {
        "id": "rcx62cogxFkC",
        "colab_type": "text"
      },
      "source": [
        "From the plots above it is possible to notice that in each of them there are more \"Alive\" people than \"Death\".\n",
        "\n",
        "This can be interpreted as an alarm signal for a possible class imbalance."
      ]
    },
    {
      "cell_type": "markdown",
      "metadata": {
        "id": "7RrY1jtDnesq",
        "colab_type": "text"
      },
      "source": [
        "#Feature selection\n",
        "\n",
        "--> inserisci il chisquare for categorical\n",
        "--> e un metodo per selezionare le numeriche"
      ]
    },
    {
      "cell_type": "markdown",
      "metadata": {
        "id": "fST1JuOTJG-P",
        "colab_type": "text"
      },
      "source": [
        "#Check dataset unbalance\n",
        "\n",
        "Since in the categorical features distribution plots a possible class unbalance was detected in this section a further investigation on this topic is carried on.\n",
        "\n",
        "To try to discover if the dataset is potentially unbalanced I count the records having \"DEATH_EVENT\"==0 and the those having \"DEATH_EVENT\"==1.\n",
        "\n",
        "The result is displayed in the following countplot:\n"
      ]
    },
    {
      "cell_type": "code",
      "metadata": {
        "id": "0Py077tf7jlP",
        "colab_type": "code",
        "colab": {
          "base_uri": "https://localhost:8080/",
          "height": 352
        },
        "outputId": "e0090098-9f45-41d4-970f-d5f75c41b060"
      },
      "source": [
        "fig = plt.figure(figsize = (5, 5))\n",
        "sns.countplot(x = 'DEATH_EVENT', data = df)"
      ],
      "execution_count": 65,
      "outputs": [
        {
          "output_type": "execute_result",
          "data": {
            "text/plain": [
              "<matplotlib.axes._subplots.AxesSubplot at 0x7f0a10d56208>"
            ]
          },
          "metadata": {
            "tags": []
          },
          "execution_count": 65
        },
        {
          "output_type": "display_data",
          "data": {
            "image/png": "[encoded data removed]",
            "text/plain": [
              "<Figure size 360x360 with 1 Axes>"
            ]
          },
          "metadata": {
            "tags": [],
            "needs_background": "light"
          }
        }
      ]
    },
    {
      "cell_type": "markdown",
      "metadata": {
        "id": "HBlE5TeaD8ze",
        "colab_type": "text"
      },
      "source": [
        "From the plot it is possible to notice that there are way more people labelled as \"Alive\" (\"DEATH_EVENT\"==0) than those labelled as \"Dead\" (\"DEATH_EVENT\"==1).\n",
        "\n",
        "For this reason I decided to apply **SMOTE** oversampling tecnique on the part of the dataset designed as **training set** for the classifiers in order to try to rebalance it.\n",
        "\n",
        "\n",
        "The name \"SMOTE\" stands for \"Synthetic Minority Oversampling Technique\" and is a way to add synthetic data to the minority represented class.\n",
        "\n",
        "It's way of working can be summarized in the following steps:\n",
        "- A random example from the minority class is first chosen. \n",
        "- k of the nearest neighbors for that example are found. \n",
        "- A randomly selected neighbor is chosen and a synthetic example is created at a randomly selected point between the two examples in feature space.\n",
        "\n"
      ]
    },
    {
      "cell_type": "markdown",
      "metadata": {
        "id": "z_VwfpU6rAHe",
        "colab_type": "text"
      },
      "source": [
        "#Data standardization\n",
        "\n",
        "After a closer look to the data visualization table presented above it is possible to notice that features have different units of measurement.\n",
        "\n",
        "Theory states that variables that are measured at different scales don't contribute equally to the analysis and might end up creating bias.\n",
        "\n",
        "In order to avoid this issue a standardization of the data is performed.\n",
        "\n",
        "--> theory standardization\n",
        "\n",
        "The result is shown in the following table:"
      ]
    },
    {
      "cell_type": "code",
      "metadata": {
        "id": "x-chBzC3rHHI",
        "colab_type": "code",
        "colab": {
          "base_uri": "https://localhost:8080/",
          "height": 422
        },
        "outputId": "ab774e4f-8e84-4fe4-cdeb-856b51076d0f"
      },
      "source": [
        "# Standardizing the features (total, numerical and categorical)\n",
        "x = StandardScaler().fit_transform(x)\n",
        "x_st_Df = pd.DataFrame(data = x, columns = features)\n",
        "\n",
        "totalDf = pd.concat([x_st_Df, y_df], axis = 1)\n",
        "\n",
        "totalDf\n"
      ],
      "execution_count": 66,
      "outputs": [
        {
          "output_type": "execute_result",
          "data": {
            "text/html": [
              "<div>\n",
              "<style scoped>\n",
              "    .dataframe tbody tr th:only-of-type {\n",
              "        vertical-align: middle;\n",
              "    }\n",
              "\n",
              "    .dataframe tbody tr th {\n",
              "        vertical-align: top;\n",
              "    }\n",
              "\n",
              "    .dataframe thead th {\n",
              "        text-align: right;\n",
              "    }\n",
              "</style>\n",
              "<table border=\"1\" class=\"dataframe\">\n",
              "  <thead>\n",
              "    <tr style=\"text-align: right;\">\n",
              "      <th></th>\n",
              "      <th>age</th>\n",
              "      <th>anaemia</th>\n",
              "      <th>creatinine_phosphokinase</th>\n",
              "      <th>diabetes</th>\n",
              "      <th>ejection_fraction</th>\n",
              "      <th>high_blood_pressure</th>\n",
              "      <th>platelets</th>\n",
              "      <th>serum_creatinine</th>\n",
              "      <th>serum_sodium</th>\n",
              "      <th>sex</th>\n",
              "      <th>smoking</th>\n",
              "      <th>time</th>\n",
              "      <th>DEATH_EVENT</th>\n",
              "    </tr>\n",
              "  </thead>\n",
              "  <tbody>\n",
              "    <tr>\n",
              "      <th>0</th>\n",
              "      <td>1.192945</td>\n",
              "      <td>-0.871105</td>\n",
              "      <td>0.000166</td>\n",
              "      <td>-0.847579</td>\n",
              "      <td>-1.530560</td>\n",
              "      <td>1.359272</td>\n",
              "      <td>1.681648e-02</td>\n",
              "      <td>0.490057</td>\n",
              "      <td>-1.504036</td>\n",
              "      <td>0.735688</td>\n",
              "      <td>-0.687682</td>\n",
              "      <td>-1.629502</td>\n",
              "      <td>1</td>\n",
              "    </tr>\n",
              "    <tr>\n",
              "      <th>1</th>\n",
              "      <td>-0.491279</td>\n",
              "      <td>-0.871105</td>\n",
              "      <td>7.514640</td>\n",
              "      <td>-0.847579</td>\n",
              "      <td>-0.007077</td>\n",
              "      <td>-0.735688</td>\n",
              "      <td>7.535660e-09</td>\n",
              "      <td>-0.284552</td>\n",
              "      <td>-0.141976</td>\n",
              "      <td>0.735688</td>\n",
              "      <td>-0.687682</td>\n",
              "      <td>-1.603691</td>\n",
              "      <td>1</td>\n",
              "    </tr>\n",
              "    <tr>\n",
              "      <th>2</th>\n",
              "      <td>0.350833</td>\n",
              "      <td>-0.871105</td>\n",
              "      <td>-0.449939</td>\n",
              "      <td>-0.847579</td>\n",
              "      <td>-1.530560</td>\n",
              "      <td>-0.735688</td>\n",
              "      <td>-1.038073e+00</td>\n",
              "      <td>-0.090900</td>\n",
              "      <td>-1.731046</td>\n",
              "      <td>0.735688</td>\n",
              "      <td>1.454161</td>\n",
              "      <td>-1.590785</td>\n",
              "      <td>1</td>\n",
              "    </tr>\n",
              "    <tr>\n",
              "      <th>3</th>\n",
              "      <td>-0.912335</td>\n",
              "      <td>1.147968</td>\n",
              "      <td>-0.486071</td>\n",
              "      <td>-0.847579</td>\n",
              "      <td>-1.530560</td>\n",
              "      <td>-0.735688</td>\n",
              "      <td>-5.464741e-01</td>\n",
              "      <td>0.490057</td>\n",
              "      <td>0.085034</td>\n",
              "      <td>0.735688</td>\n",
              "      <td>-0.687682</td>\n",
              "      <td>-1.590785</td>\n",
              "      <td>1</td>\n",
              "    </tr>\n",
              "    <tr>\n",
              "      <th>4</th>\n",
              "      <td>0.350833</td>\n",
              "      <td>1.147968</td>\n",
              "      <td>-0.435486</td>\n",
              "      <td>1.179830</td>\n",
              "      <td>-1.530560</td>\n",
              "      <td>-0.735688</td>\n",
              "      <td>6.517986e-01</td>\n",
              "      <td>1.264666</td>\n",
              "      <td>-4.682176</td>\n",
              "      <td>-1.359272</td>\n",
              "      <td>-0.687682</td>\n",
              "      <td>-1.577879</td>\n",
              "      <td>1</td>\n",
              "    </tr>\n",
              "    <tr>\n",
              "      <th>...</th>\n",
              "      <td>...</td>\n",
              "      <td>...</td>\n",
              "      <td>...</td>\n",
              "      <td>...</td>\n",
              "      <td>...</td>\n",
              "      <td>...</td>\n",
              "      <td>...</td>\n",
              "      <td>...</td>\n",
              "      <td>...</td>\n",
              "      <td>...</td>\n",
              "      <td>...</td>\n",
              "      <td>...</td>\n",
              "      <td>...</td>\n",
              "    </tr>\n",
              "    <tr>\n",
              "      <th>294</th>\n",
              "      <td>0.098199</td>\n",
              "      <td>-0.871105</td>\n",
              "      <td>-0.537688</td>\n",
              "      <td>1.179830</td>\n",
              "      <td>-0.007077</td>\n",
              "      <td>1.359272</td>\n",
              "      <td>-1.109765e+00</td>\n",
              "      <td>-0.284552</td>\n",
              "      <td>1.447094</td>\n",
              "      <td>0.735688</td>\n",
              "      <td>1.454161</td>\n",
              "      <td>1.803451</td>\n",
              "      <td>0</td>\n",
              "    </tr>\n",
              "    <tr>\n",
              "      <th>295</th>\n",
              "      <td>-0.491279</td>\n",
              "      <td>-0.871105</td>\n",
              "      <td>1.278215</td>\n",
              "      <td>-0.847579</td>\n",
              "      <td>-0.007077</td>\n",
              "      <td>-0.735688</td>\n",
              "      <td>6.802472e-02</td>\n",
              "      <td>-0.187726</td>\n",
              "      <td>0.539054</td>\n",
              "      <td>-1.359272</td>\n",
              "      <td>-0.687682</td>\n",
              "      <td>1.816357</td>\n",
              "      <td>0</td>\n",
              "    </tr>\n",
              "    <tr>\n",
              "      <th>296</th>\n",
              "      <td>-1.333392</td>\n",
              "      <td>-0.871105</td>\n",
              "      <td>1.525979</td>\n",
              "      <td>1.179830</td>\n",
              "      <td>1.854958</td>\n",
              "      <td>-0.735688</td>\n",
              "      <td>4.902082e+00</td>\n",
              "      <td>-0.575031</td>\n",
              "      <td>0.312044</td>\n",
              "      <td>-1.359272</td>\n",
              "      <td>-0.687682</td>\n",
              "      <td>1.906697</td>\n",
              "      <td>0</td>\n",
              "    </tr>\n",
              "    <tr>\n",
              "      <th>297</th>\n",
              "      <td>-1.333392</td>\n",
              "      <td>-0.871105</td>\n",
              "      <td>1.890398</td>\n",
              "      <td>-0.847579</td>\n",
              "      <td>-0.007077</td>\n",
              "      <td>-0.735688</td>\n",
              "      <td>-1.263389e+00</td>\n",
              "      <td>0.005926</td>\n",
              "      <td>0.766064</td>\n",
              "      <td>0.735688</td>\n",
              "      <td>1.454161</td>\n",
              "      <td>1.932509</td>\n",
              "      <td>0</td>\n",
              "    </tr>\n",
              "    <tr>\n",
              "      <th>298</th>\n",
              "      <td>-0.912335</td>\n",
              "      <td>-0.871105</td>\n",
              "      <td>-0.398321</td>\n",
              "      <td>-0.847579</td>\n",
              "      <td>0.585389</td>\n",
              "      <td>-0.735688</td>\n",
              "      <td>1.348231e+00</td>\n",
              "      <td>0.199578</td>\n",
              "      <td>-0.141976</td>\n",
              "      <td>0.735688</td>\n",
              "      <td>1.454161</td>\n",
              "      <td>1.997038</td>\n",
              "      <td>0</td>\n",
              "    </tr>\n",
              "  </tbody>\n",
              "</table>\n",
              "<p>299 rows × 13 columns</p>\n",
              "</div>"
            ],
            "text/plain": [
              "          age   anaemia  ...      time  DEATH_EVENT\n",
              "0    1.192945 -0.871105  ... -1.629502            1\n",
              "1   -0.491279 -0.871105  ... -1.603691            1\n",
              "2    0.350833 -0.871105  ... -1.590785            1\n",
              "3   -0.912335  1.147968  ... -1.590785            1\n",
              "4    0.350833  1.147968  ... -1.577879            1\n",
              "..        ...       ...  ...       ...          ...\n",
              "294  0.098199 -0.871105  ...  1.803451            0\n",
              "295 -0.491279 -0.871105  ...  1.816357            0\n",
              "296 -1.333392 -0.871105  ...  1.906697            0\n",
              "297 -1.333392 -0.871105  ...  1.932509            0\n",
              "298 -0.912335 -0.871105  ...  1.997038            0\n",
              "\n",
              "[299 rows x 13 columns]"
            ]
          },
          "metadata": {
            "tags": []
          },
          "execution_count": 66
        }
      ]
    },
    {
      "cell_type": "markdown",
      "metadata": {
        "id": "_X4Op1oqcgP4",
        "colab_type": "text"
      },
      "source": [
        "#Define some useful function for smote"
      ]
    },
    {
      "cell_type": "code",
      "metadata": {
        "id": "txay5qGYcF54",
        "colab_type": "code",
        "colab": {}
      },
      "source": [
        "def nearest_neighbour(X, x):\n",
        "    euclidean = np.ones(X.shape[0]-1)\n",
        "    \n",
        "    additive = [None]*(1*X.shape[1])\n",
        "    additive = np.array(additive).reshape(1, X.shape[1])\n",
        "    k = 0\n",
        "    for j in range(0,X.shape[0]):\n",
        "        if np.array_equal(X[j], x) == False:\n",
        "            euclidean[k] = sqrt(sum((X[j]-x)**2))\n",
        "            k = k + 1\n",
        "    euclidean = np.sort(euclidean)\n",
        "    weight = rand.random()\n",
        "    while(weight == 0):\n",
        "        weight = rand.random()\n",
        "    additive = np.multiply(euclidean[:1],weight)\n",
        "    return additive\n",
        "    \n",
        "def SMOTE_100(X):\n",
        "    new = [None]*(X.shape[0]*X.shape[1])\n",
        "    new = np.array(new).reshape(X.shape[0],X.shape[1])\n",
        "    k = 0\n",
        "    for i in range(0,X.shape[0]):\n",
        "        additive = nearest_neighbour(X, X[i])\n",
        "        for j in range(0,1):\n",
        "            new[k] = X[i] + additive[j]\n",
        "            k = k + 1\n",
        "    return new "
      ],
      "execution_count": 67,
      "outputs": []
    },
    {
      "cell_type": "markdown",
      "metadata": {
        "id": "caCGKWUUuUSo",
        "colab_type": "text"
      },
      "source": [
        "#Data preparation\n",
        "In all classifiers I will use k-fold cross validation in order to increase the performances and reduce overfitting\n",
        "I divide the dataset into training set (80%) and test set (20%)"
      ]
    },
    {
      "cell_type": "code",
      "metadata": {
        "id": "68xpt22cclJa",
        "colab_type": "code",
        "colab": {}
      },
      "source": [
        "x_train_noPca, x_test_noPca, y_train_noPca, y_test_noPca = train_test_split(x, y, test_size = 0.2)\n",
        "\n",
        "x_train_Df = pd.DataFrame(data = x_train_noPca, columns = features)\n",
        "y_train_Df =pd.DataFrame(data=y_train_noPca, columns= [\"DEATH_EVENT\"])\n",
        "\n",
        "\n",
        "trainDf = pd.concat([x_train_Df, y_train_Df], axis = 1)\n",
        "\n"
      ],
      "execution_count": 68,
      "outputs": []
    },
    {
      "cell_type": "markdown",
      "metadata": {
        "id": "5yH44xFX_l8R",
        "colab_type": "text"
      },
      "source": [
        "#Standard validation"
      ]
    },
    {
      "cell_type": "code",
      "metadata": {
        "id": "ePo94xw-_sxf",
        "colab_type": "code",
        "colab": {}
      },
      "source": [
        "x_train_noPca, x_val_noPca, y_train_noPca, y_val_noPca = train_test_split(x_train_noPca,y_train_noPca,test_size= 0.2 )\n"
      ],
      "execution_count": 69,
      "outputs": []
    },
    {
      "cell_type": "markdown",
      "metadata": {
        "colab_type": "text",
        "id": "SdfqyrqABMWw"
      },
      "source": [
        "##Classifiers evaluation on original dataset"
      ]
    },
    {
      "cell_type": "markdown",
      "metadata": {
        "colab_type": "text",
        "id": "TqEfAXCRBxA3"
      },
      "source": [
        "###Linear SVM"
      ]
    },
    {
      "cell_type": "code",
      "metadata": {
        "id": "1OiHBP10B2Ln",
        "colab_type": "code",
        "colab": {
          "base_uri": "https://localhost:8080/",
          "height": 386
        },
        "outputId": "9c57c441-96ca-4630-ab97-98d37adccc6f"
      },
      "source": [
        "C_best=0\n",
        "acc_best=0\n",
        "\n",
        "for C in [0.001, 0.01, 0.1, 1, 10, 100,1000]:\n",
        "  \n",
        "  print(\"analyzing C={}\".format(C))\n",
        "  \n",
        "  \n",
        "  \n",
        "  clf=svm.SVC(kernel='linear', C=C)\n",
        "  clf.fit(x_train_noPca,y_train_noPca.ravel()) #fit is used to train your pattern with some training data\n",
        "\n",
        "  #evaluate the method on the validation set \n",
        "\n",
        "  y_p_SVM=clf.predict(x_val_noPca)\n",
        "  accuracy= accuracy_score(y_val_noPca,y_p_SVM)\n",
        "  \n",
        "    \n",
        "  #get the mean of the accuracies for each fold\n",
        "  print(\"accuracy of the model:\",accuracy)\n",
        "  \n",
        "\n",
        "  #searching for the best hyperparameter in the fold\n",
        "  if (accuracy>acc_best):\n",
        "    C_best=C\n",
        "    acc_best=accuracy\n",
        "    bestModel=clf\n",
        "\n",
        "\n",
        "print(\"\\n\")\n",
        "print(\"Best hyperparameter for the model is C={}\".format(C_best)) \n",
        "\n",
        "#Testing the model on the test set with the best hyperparameters\n",
        "print(\"Testing the model on the test set with the best hyperparameter\")\n",
        "y_onTest_SVM=bestModel.predict(x_test_noPca)\n",
        "\n",
        "acc_on_Test= accuracy_score(y_test_noPca,y_onTest_SVM)\n",
        "precision_on_Test = precision_score(y_test_noPca, y_onTest_SVM, average='macro')\n",
        "recall_on_Test=recall_score(y_test_noPca, y_onTest_SVM, average='macro')\n",
        "f1_on_Test=f1_score(y_test_noPca, y_onTest_SVM, average='macro')\n",
        "print(\"Accuracy on test set={}\".format(acc_on_Test))\n",
        "print(\"Precision on test set={}\".format(precision_on_Test))\n",
        "print(\"Recall on test set={}\".format(recall_on_Test)) \n",
        "print(\"F1 score on test set={}\".format(f1_on_Test))\n",
        "\n",
        "acc_original[0]=acc_on_Test\n",
        "f1_original[0]=f1_on_Test"
      ],
      "execution_count": 70,
      "outputs": [
        {
          "output_type": "stream",
          "text": [
            "analyzing C=0.001\n",
            "accuracy of the model: 0.7291666666666666\n",
            "analyzing C=0.01\n",
            "accuracy of the model: 0.7708333333333334\n",
            "analyzing C=0.1\n",
            "accuracy of the model: 0.75\n",
            "analyzing C=1\n",
            "accuracy of the model: 0.6666666666666666\n",
            "analyzing C=10\n",
            "accuracy of the model: 0.6666666666666666\n",
            "analyzing C=100\n",
            "accuracy of the model: 0.6666666666666666\n",
            "analyzing C=1000\n",
            "accuracy of the model: 0.6666666666666666\n",
            "\n",
            "\n",
            "Best hyperparameter for the model is C=0.01\n",
            "Testing the model on the test set with the best hyperparameter\n",
            "Accuracy on test set=0.7833333333333333\n",
            "Precision on test set=0.7968460111317255\n",
            "Recall on test set=0.7\n",
            "F1 score on test set=0.7172888727799928\n"
          ],
          "name": "stdout"
        }
      ]
    },
    {
      "cell_type": "markdown",
      "metadata": {
        "colab_type": "text",
        "id": "WuhJgbDoFlQd"
      },
      "source": [
        "###RBF Kernel SVM\n",
        "In order to try to increase the overall accuracy I try to apply the kernel trick."
      ]
    },
    {
      "cell_type": "code",
      "metadata": {
        "id": "XwErk5v1Fx3B",
        "colab_type": "code",
        "colab": {
          "base_uri": "https://localhost:8080/",
          "height": 386
        },
        "outputId": "92a5d3c8-4664-4180-8eeb-d88225e87e60"
      },
      "source": [
        "C_best=0\n",
        "acc_best=0\n",
        "\n",
        "for C in [0.001, 0.01, 0.1, 1, 10, 100,1000]:\n",
        "  \n",
        "  print(\"analyzing C={}\".format(C))\n",
        "  \n",
        "  \n",
        "  clf=svm.SVC(kernel='rbf', C=C)\n",
        "  clf.fit(x_train_noPca,y_train_noPca.ravel()) #fit is used to train your pattern with some training data\n",
        "\n",
        "  #evaluate the method on the validation set \n",
        "\n",
        "  y_p_SVM=clf.predict(x_val_noPca)\n",
        "  accuracy= accuracy_score(y_val_noPca,y_p_SVM)\n",
        "  \n",
        "\n",
        "  #get the mean of the accuracies for each fold\n",
        "  print(\"total accuracy of the model is:\",accuracy)\n",
        "  \n",
        "\n",
        "  #searching for the best hyperparameter in the fold\n",
        "  if (accuracy>acc_best):\n",
        "    C_best=C\n",
        "    acc_best=accuracy\n",
        "    bestModel=clf\n",
        "\n",
        "\n",
        "print(\"\\n\")\n",
        "print(\"Best hyperparameter for the model is C={}\".format(C_best)) \n",
        "\n",
        "#Testing the model on the test set with the best hyperparameters\n",
        "print(\"Testing the model on the test set with the best hyperparameter\")\n",
        "y_onTest_SVMRBF=bestModel.predict(x_test_noPca)\n",
        "precision_on_Test = precision_score(y_test_noPca, y_onTest_SVMRBF, average='macro')\n",
        "recall_on_Test=recall_score(y_test_noPca, y_onTest_SVMRBF, average='macro')\n",
        "f1_on_Test=f1_score(y_test_noPca, y_onTest_SVMRBF, average='macro')\n",
        "\n",
        "acc_on_Test= accuracy_score(y_test_noPca,y_onTest_SVMRBF)\n",
        "print(\"Accuracy on test set={}\".format(acc_on_Test))\n",
        "print(\"Precision on test set={}\".format(precision_on_Test))\n",
        "print(\"Recall on test set={}\".format(recall_on_Test)) \n",
        "print(\"F1 score on test set={}\".format(f1_on_Test))\n",
        "acc_original[1]=acc_on_Test\n",
        "f1_original[1]=f1_on_Test"
      ],
      "execution_count": 71,
      "outputs": [
        {
          "output_type": "stream",
          "text": [
            "analyzing C=0.001\n",
            "total accuracy of the model is: 0.7291666666666666\n",
            "analyzing C=0.01\n",
            "total accuracy of the model is: 0.7291666666666666\n",
            "analyzing C=0.1\n",
            "total accuracy of the model is: 0.7291666666666666\n",
            "analyzing C=1\n",
            "total accuracy of the model is: 0.75\n",
            "analyzing C=10\n",
            "total accuracy of the model is: 0.7708333333333334\n",
            "analyzing C=100\n",
            "total accuracy of the model is: 0.75\n",
            "analyzing C=1000\n",
            "total accuracy of the model is: 0.75\n",
            "\n",
            "\n",
            "Best hyperparameter for the model is C=10\n",
            "Testing the model on the test set with the best hyperparameter\n",
            "Accuracy on test set=0.7333333333333333\n",
            "Precision on test set=0.7083333333333334\n",
            "Recall on test set=0.725\n",
            "F1 score on test set=0.7129186602870814\n"
          ],
          "name": "stdout"
        }
      ]
    },
    {
      "cell_type": "markdown",
      "metadata": {
        "colab_type": "text",
        "id": "bf86l989HRAz"
      },
      "source": [
        "###Logistic regression "
      ]
    },
    {
      "cell_type": "code",
      "metadata": {
        "id": "0WIRN-x6HSJ1",
        "colab_type": "code",
        "colab": {
          "base_uri": "https://localhost:8080/",
          "height": 101
        },
        "outputId": "9872a2e1-c425-4c16-ec67-2b12fad2eba5"
      },
      "source": [
        "clf = LogisticRegression(random_state=0).fit(x_train_noPca,y_train_noPca.ravel())\n",
        "y_p_LR=clf.predict(x_val_noPca)\n",
        "accuracy= accuracy_score(y_val_noPca,y_p_LR)\n",
        "#get the mean of the accuracies for each fold\n",
        "print(\"total accuracy of the model:\",accuracy)      \n",
        "\n",
        "y_onTest_LR=clf.predict(x_test_noPca)\n",
        "\n",
        "acc_on_Test= accuracy_score(y_test_noPca,y_onTest_LR)\n",
        "precision_on_Test = precision_score(y_test_noPca, y_onTest_LR, average='macro')\n",
        "recall_on_Test=recall_score(y_test_noPca, y_onTest_LR, average='macro')\n",
        "f1_on_Test=f1_score(y_test_noPca, y_onTest_LR, average='macro')\n",
        "print(\"Accuracy on test set={}\".format(acc_on_Test))\n",
        "print(\"Precision on test set={}\".format(precision_on_Test))\n",
        "print(\"Recall on test set={}\".format(recall_on_Test)) \n",
        "print(\"F1 score on test set={}\".format(f1_on_Test))\n",
        "acc_original[2]=acc_on_Test\n",
        "f1_original[2]=f1_on_Test\n"
      ],
      "execution_count": 72,
      "outputs": [
        {
          "output_type": "stream",
          "text": [
            "total accuracy of the model: 0.7291666666666666\n",
            "Accuracy on test set=0.8166666666666667\n",
            "Precision on test set=0.7930402930402931\n",
            "Recall on test set=0.8\n",
            "F1 score on test set=0.7962334053720284\n"
          ],
          "name": "stdout"
        }
      ]
    },
    {
      "cell_type": "markdown",
      "metadata": {
        "colab_type": "text",
        "id": "vHeJaBf6IaWV"
      },
      "source": [
        "###Random forest"
      ]
    },
    {
      "cell_type": "code",
      "metadata": {
        "id": "PQlbXrwoIbgf",
        "colab_type": "code",
        "colab": {
          "base_uri": "https://localhost:8080/",
          "height": 101
        },
        "outputId": "0233b454-7eb5-4fe8-82e5-0cdd9ab047e8"
      },
      "source": [
        "clf = RandomForestClassifier(max_depth=10, random_state=0).fit(x_train_noPca,y_train_noPca.ravel())\n",
        "y_p_RF=clf.predict(x_val_noPca)\n",
        "\n",
        "acc= accuracy_score(y_val_noPca,y_p_RF)\n",
        "\n",
        "#get the mean of the accuracies for each fold\n",
        "print(\"total accuracy of the model is:\",acc)      \n",
        "\n",
        "y_onTest_RF=clf.predict(x_test_noPca)\n",
        "\n",
        "acc_on_Test= accuracy_score(y_test_noPca,y_onTest_RF)\n",
        "precision_on_Test = precision_score(y_test_noPca, y_onTest_RF, average='macro')\n",
        "recall_on_Test=recall_score(y_test_noPca, y_onTest_RF, average='macro')\n",
        "f1_on_Test=f1_score(y_test_noPca, y_onTest_RF, average='macro')\n",
        "print(\"Accuracy on test set={}\".format(acc_on_Test))\n",
        "print(\"Precision on test set={}\".format(precision_on_Test))\n",
        "print(\"Recall on test set={}\".format(recall_on_Test)) \n",
        "print(\"F1 score on test set={}\".format(f1_on_Test))\n",
        "acc_original[3]=acc_on_Test\n",
        "f1_original[3]=f1_on_Test\n"
      ],
      "execution_count": 73,
      "outputs": [
        {
          "output_type": "stream",
          "text": [
            "total accuracy of the model is: 0.8125\n",
            "Accuracy on test set=0.85\n",
            "Precision on test set=0.8296703296703296\n",
            "Recall on test set=0.8375\n",
            "F1 score on test set=0.8332818771225687\n"
          ],
          "name": "stdout"
        }
      ]
    },
    {
      "cell_type": "markdown",
      "metadata": {
        "colab_type": "text",
        "id": "ibJ0OO6TJgu-"
      },
      "source": [
        "##Classifiers with smote oversampling tecnique"
      ]
    },
    {
      "cell_type": "markdown",
      "metadata": {
        "colab_type": "text",
        "id": "Rc78uuKoKDpB"
      },
      "source": [
        "###Linear SVM"
      ]
    },
    {
      "cell_type": "code",
      "metadata": {
        "id": "X5PIyoTYKWC0",
        "colab_type": "code",
        "colab": {
          "base_uri": "https://localhost:8080/",
          "height": 386
        },
        "outputId": "228a49d8-1a3e-45b2-c89b-1f6ffdd22c37"
      },
      "source": [
        "C_best=0\n",
        "acc_best=0\n",
        "\n",
        "for C in [0.001, 0.01, 0.1, 1, 10, 100,1000]:\n",
        "  \n",
        "  print(\"analyzing C={}\".format(C))\n",
        "  \n",
        "  \n",
        "\n",
        "  #apply smote\n",
        "  unique, counts = np.unique(y_train_noPca, return_counts=True)\n",
        "  minority_shape = dict(zip(unique, counts))[1]\n",
        "  x1 = np.ones((minority_shape, x_train_noPca.shape[1]))\n",
        "  k=0\n",
        "  for i in range(0,x_train_noPca.shape[0]):\n",
        "      \n",
        "      if y_train_noPca[i] == 1:\n",
        "          \n",
        "          x1[k] = x_train_noPca[i]\n",
        "          k = k + 1\n",
        "  sampled_instances = SMOTE_100(x1)\n",
        "  X_f = np.concatenate((x_train_noPca,sampled_instances), axis = 0)\n",
        "  y_sampled_instances = np.ones(minority_shape)\n",
        "  \n",
        "  y_f = np.concatenate((y_train_noPca.ravel(),y_sampled_instances), axis=0)\n",
        "  #train the data on the training set\n",
        "  clf=svm.SVC(kernel='linear', C=C)\n",
        "  clf.fit(X_f,y_f) #fit is used to train your pattern with some training data\n",
        "\n",
        "  #evaluate the method on the validation set \n",
        "\n",
        "  y_p_SVM=clf.predict(x_val_noPca)\n",
        "  acc= accuracy_score(y_val_noPca,y_p_SVM)\n",
        "  \n",
        "  \n",
        "  print(\"total accuracy of the model is:\",acc)\n",
        "  \n",
        "\n",
        "  #searching for the best hyperparameter in the fold\n",
        "  if (acc>acc_best):\n",
        "    C_best=C\n",
        "    acc_best=acc\n",
        "    bestModel=clf\n",
        "\n",
        "\n",
        "print(\"\\n\")\n",
        "print(\"Best hyperparameter for the model is C={}\".format(C_best)) \n",
        "\n",
        "#Testing the model on the test set with the best hyperparameters\n",
        "print(\"Testing the model on the test set with the best hyperparameter\")\n",
        "y_onTest_SVM=bestModel.predict(x_test_noPca)\n",
        "\n",
        "acc_on_Test= accuracy_score(y_test_noPca,y_onTest_SVM)\n",
        "precision_on_Test = precision_score(y_test_noPca, y_onTest_SVM, average='macro')\n",
        "recall_on_Test=recall_score(y_test_noPca, y_onTest_SVM, average='macro')\n",
        "f1_on_Test=f1_score(y_test_noPca, y_onTest_SVM, average='macro')\n",
        "print(\"Accuracy on test set with smote={}\".format(acc_on_Test))\n",
        "print(\"Precision on test set with smote={}\".format(precision_on_Test))\n",
        "print(\"Recall on test set with smote={}\".format(recall_on_Test)) \n",
        "print(\"F1 score on test set with smote={}\".format(f1_on_Test))\n",
        "acc_smote[0]=acc_on_Test\n",
        "f1_smote[0]=f1_on_Test\n"
      ],
      "execution_count": 74,
      "outputs": [
        {
          "output_type": "stream",
          "text": [
            "analyzing C=0.001\n",
            "total accuracy of the model is: 0.7291666666666666\n",
            "analyzing C=0.01\n",
            "total accuracy of the model is: 0.7291666666666666\n",
            "analyzing C=0.1\n",
            "total accuracy of the model is: 0.7083333333333334\n",
            "analyzing C=1\n",
            "total accuracy of the model is: 0.7916666666666666\n",
            "analyzing C=10\n",
            "total accuracy of the model is: 0.7083333333333334\n",
            "analyzing C=100\n",
            "total accuracy of the model is: 0.7083333333333334\n",
            "analyzing C=1000\n",
            "total accuracy of the model is: 0.7291666666666666\n",
            "\n",
            "\n",
            "Best hyperparameter for the model is C=1\n",
            "Testing the model on the test set with the best hyperparameter\n",
            "Accuracy on test set with smote=0.8166666666666667\n",
            "Precision on test set with smote=0.7971428571428572\n",
            "Recall on test set with smote=0.825\n",
            "F1 score on test set with smote=0.8044444444444445\n"
          ],
          "name": "stdout"
        }
      ]
    },
    {
      "cell_type": "markdown",
      "metadata": {
        "colab_type": "text",
        "id": "WgEkcEL3RYBQ"
      },
      "source": [
        "###RBF Kernel SVM"
      ]
    },
    {
      "cell_type": "code",
      "metadata": {
        "id": "6dV477B0RYrH",
        "colab_type": "code",
        "colab": {
          "base_uri": "https://localhost:8080/",
          "height": 386
        },
        "outputId": "0e6c8418-b79b-4b05-fdbe-36976c810407"
      },
      "source": [
        "C_best=0\n",
        "acc_best=0\n",
        "\n",
        "for C in [0.001, 0.01, 0.1, 1, 10, 100,1000]:\n",
        "  \n",
        "  print(\"analyzing C={}\".format(C))\n",
        "  \n",
        "  #apply smote\n",
        "  unique, counts = np.unique(y_train_noPca, return_counts=True)\n",
        "  minority_shape = dict(zip(unique, counts))[1]\n",
        "  x1 = np.ones((minority_shape, x_train_noPca.shape[1]))\n",
        "  k=0\n",
        "  for i in range(0,x_train_noPca.shape[0]):\n",
        "      \n",
        "      if y_train_noPca[i] == 1:\n",
        "        x1[k] = x_train_noPca[i]\n",
        "        k = k + 1\n",
        "  sampled_instances = SMOTE_100(x1)\n",
        "  X_f = np.concatenate((x_train_noPca,sampled_instances), axis = 0)\n",
        "  y_sampled_instances = np.ones(minority_shape)\n",
        "  y_f = np.concatenate((y_train_noPca.ravel(),y_sampled_instances), axis=0)\n",
        "\n",
        "\n",
        "\n",
        "  #train the data on the training set\n",
        "  clf=svm.SVC(kernel='rbf', C=C)\n",
        "  clf.fit(X_f,y_f) #fit is used to train your pattern with some training data\n",
        "\n",
        "  #evaluate the method on the validation set \n",
        "\n",
        "  y_p_SVM=clf.predict(x_val_noPca)\n",
        "  acc= accuracy_score(y_val_noPca,y_p_SVM)\n",
        "  \n",
        "\n",
        "  #get the mean of the accuracies for each fold\n",
        "  print(\"total accuracy of the model is:\",acc)\n",
        "  \n",
        "\n",
        "  #searching for the best hyperparameter in the fold\n",
        "  if (acc>acc_best):\n",
        "    C_best=C\n",
        "    acc_best=acc\n",
        "    bestModel=clf\n",
        "\n",
        "\n",
        "print(\"\\n\")\n",
        "print(\"Best hyperparameter for the model is C={}\".format(C_best)) \n",
        "\n",
        "#Testing the model on the test set with the best hyperparameters\n",
        "print(\"Testing the model on the test set with the best hyperparameter\")\n",
        "y_onTest_SVMRBF=bestModel.predict(x_test_noPca)\n",
        "precision_on_Test = precision_score(y_test_noPca, y_onTest_SVMRBF, average='macro')\n",
        "recall_on_Test=recall_score(y_test_noPca, y_onTest_SVMRBF, average='macro')\n",
        "f1_on_Test=f1_score(y_test_noPca, y_onTest_SVMRBF, average='macro')\n",
        "\n",
        "acc_on_Test= accuracy_score(y_test_noPca,y_onTest_SVMRBF)\n",
        "print(\"Accuracy on test set with smote={}\".format(acc_on_Test))\n",
        "print(\"Precision on test set with smote={}\".format(precision_on_Test))\n",
        "print(\"Recall on test set with smote={}\".format(recall_on_Test)) \n",
        "print(\"F1 score on test set with smote={}\".format(f1_on_Test))\n",
        "acc_smote[1]=acc_on_Test\n",
        "f1_smote[1]=f1_on_Test"
      ],
      "execution_count": 75,
      "outputs": [
        {
          "output_type": "stream",
          "text": [
            "analyzing C=0.001\n",
            "total accuracy of the model is: 0.7291666666666666\n",
            "analyzing C=0.01\n",
            "total accuracy of the model is: 0.7291666666666666\n",
            "analyzing C=0.1\n",
            "total accuracy of the model is: 0.75\n",
            "analyzing C=1\n",
            "total accuracy of the model is: 0.6666666666666666\n",
            "analyzing C=10\n",
            "total accuracy of the model is: 0.7291666666666666\n",
            "analyzing C=100\n",
            "total accuracy of the model is: 0.75\n",
            "analyzing C=1000\n",
            "total accuracy of the model is: 0.6875\n",
            "\n",
            "\n",
            "Best hyperparameter for the model is C=0.1\n",
            "Testing the model on the test set with the best hyperparameter\n",
            "Accuracy on test set with smote=0.7666666666666667\n",
            "Precision on test set with smote=0.7380952380952381\n",
            "Recall on test set with smote=0.725\n",
            "F1 score on test set with smote=0.730423620025674\n"
          ],
          "name": "stdout"
        }
      ]
    },
    {
      "cell_type": "markdown",
      "metadata": {
        "colab_type": "text",
        "id": "iKGAtNd5bT38"
      },
      "source": [
        "###Logistic regression"
      ]
    },
    {
      "cell_type": "code",
      "metadata": {
        "id": "NqktwaqRbUie",
        "colab_type": "code",
        "colab": {
          "base_uri": "https://localhost:8080/",
          "height": 101
        },
        "outputId": "94b05361-f3b8-48cd-94c9-a5c8151a996a"
      },
      "source": [
        "\n",
        "#apply smote\n",
        "unique, counts = np.unique(y_train_noPca, return_counts=True)\n",
        "minority_shape = dict(zip(unique, counts))[1]\n",
        "x1 = np.ones((minority_shape, x_train_noPca.shape[1]))\n",
        "k=0\n",
        "for i in range(0,x_train_noPca.shape[0]):\n",
        "    \n",
        "    if y_train_noPca[i] == 1:\n",
        "        \n",
        "        x1[k] = x_train_noPca[i]\n",
        "        k = k + 1\n",
        "sampled_instances = SMOTE_100(x1)\n",
        "X_f = np.concatenate((x_train_noPca,sampled_instances), axis = 0)\n",
        "y_sampled_instances = np.ones(minority_shape)\n",
        "y_f = np.concatenate((y_train_noPca.ravel(),y_sampled_instances), axis=0)\n",
        "\n",
        "\n",
        "\n",
        "\n",
        "clf = LogisticRegression(random_state=0).fit(X_f,y_f)\n",
        "y_p_LR=clf.predict(x_val_noPca)\n",
        "acc= accuracy_score(y_val_noPca,y_p_LR)\n",
        "\n",
        "#get the mean of the accuracies for each fold\n",
        "print(\"total accuracy of the model is:\",acc)      \n",
        "\n",
        "y_onTest_LR=clf.predict(x_test_noPca)\n",
        "\n",
        "acc_on_Test= accuracy_score(y_test_noPca,y_onTest_LR)\n",
        "precision_on_Test = precision_score(y_test_noPca, y_onTest_LR, average='macro')\n",
        "recall_on_Test=recall_score(y_test_noPca, y_onTest_LR, average='macro')\n",
        "f1_on_Test=f1_score(y_test_noPca, y_onTest_LR, average='macro')\n",
        "print(\"Accuracy on test set with smote={}\".format(acc_on_Test))\n",
        "print(\"Precision on test set= with smote{}\".format(precision_on_Test))\n",
        "print(\"Recall on test set with smote={}\".format(recall_on_Test)) \n",
        "print(\"F1 score on test set with smote={}\".format(f1_on_Test))\n",
        "acc_smote[2]=acc_on_Test\n",
        "f1_smote[2]=f1_on_Test"
      ],
      "execution_count": 76,
      "outputs": [
        {
          "output_type": "stream",
          "text": [
            "total accuracy of the model is: 0.7291666666666666\n",
            "Accuracy on test set with smote=0.8166666666666667\n",
            "Precision on test set= with smote0.7930402930402931\n",
            "Recall on test set with smote=0.8\n",
            "F1 score on test set with smote=0.7962334053720284\n"
          ],
          "name": "stdout"
        }
      ]
    },
    {
      "cell_type": "markdown",
      "metadata": {
        "colab_type": "text",
        "id": "6USMjlOwc4OM"
      },
      "source": [
        "###Random forest"
      ]
    },
    {
      "cell_type": "code",
      "metadata": {
        "id": "SrdSDe48c41y",
        "colab_type": "code",
        "colab": {
          "base_uri": "https://localhost:8080/",
          "height": 101
        },
        "outputId": "e0510990-c9f1-4078-cc07-236f72fa934f"
      },
      "source": [
        "#apply smote\n",
        "unique, counts = np.unique(y_train_noPca, return_counts=True)\n",
        "minority_shape = dict(zip(unique, counts))[1]\n",
        "x1 = np.ones((minority_shape, x_train_noPca.shape[1]))\n",
        "k=0\n",
        "for i in range(0,x_train_noPca.shape[0]):\n",
        "    \n",
        "    if y_train_noPca[i] == 1:\n",
        "        \n",
        "        x1[k] = x_train_noPca[i]\n",
        "        k = k + 1\n",
        "sampled_instances = SMOTE_100(x1)\n",
        "X_f = np.concatenate((x_train_noPca,sampled_instances), axis = 0)\n",
        "y_sampled_instances = np.ones(minority_shape)\n",
        "y_f = np.concatenate((y_train_noPca.ravel(),y_sampled_instances), axis=0)\n",
        "\n",
        "\n",
        "clf = RandomForestClassifier(max_depth=10, random_state=0).fit(X_f,y_f)\n",
        "y_p_RF=clf.predict(x_val_noPca)\n",
        "\n",
        "\n",
        "acc= accuracy_score(y_val_noPca,y_p_RF)\n",
        "\n",
        "#get the mean of the accuracies for each fold\n",
        "print(\"total accuracy of the model after Cross Validation is:\",acc)      \n",
        "\n",
        "y_onTest_RF=clf.predict(x_test_noPca)\n",
        "\n",
        "acc_on_Test= accuracy_score(y_test_noPca,y_onTest_RF)\n",
        "precision_on_Test = precision_score(y_test_noPca, y_onTest_RF, average='macro')\n",
        "recall_on_Test=recall_score(y_test_noPca, y_onTest_RF, average='macro')\n",
        "f1_on_Test=f1_score(y_test_noPca, y_onTest_RF, average='macro')\n",
        "print(\"Accuracy on test set with smote={}\".format(acc_on_Test))\n",
        "print(\"Precision on test set with smote={}\".format(precision_on_Test))\n",
        "print(\"Recall on test set with smote={}\".format(recall_on_Test)) \n",
        "print(\"F1 score on test set with smote={}\".format(f1_on_Test))\n",
        "acc_smote[3]=acc_on_Test\n",
        "f1_smote[3]=f1_on_Test"
      ],
      "execution_count": 77,
      "outputs": [
        {
          "output_type": "stream",
          "text": [
            "total accuracy of the model after Cross Validation is: 0.8125\n",
            "Accuracy on test set with smote=0.8\n",
            "Precision on test set with smote=0.7749999999999999\n",
            "Recall on test set with smote=0.7749999999999999\n",
            "F1 score on test set with smote=0.7749999999999999\n"
          ],
          "name": "stdout"
        }
      ]
    },
    {
      "cell_type": "markdown",
      "metadata": {
        "id": "tsZinlBpd-r9",
        "colab_type": "text"
      },
      "source": [
        "#KFold Cross Validation"
      ]
    },
    {
      "cell_type": "code",
      "metadata": {
        "id": "UODDZup1ww7O",
        "colab_type": "code",
        "colab": {
          "base_uri": "https://localhost:8080/",
          "height": 308
        },
        "outputId": "cf1e31c7-66c2-4ddc-feed-dff82979b06b"
      },
      "source": [
        "rn = range(0,299)\n",
        "kf10 = KFold(n_splits=10, shuffle=True)\n",
        "\n",
        "def kfoldize2(kf, rn, shift=.1):\n",
        "    train = pd.DataFrame()\n",
        "    test = pd.DataFrame()\n",
        "    i = 1\n",
        "    for train_index, test_index in kf.split(rn):\n",
        "        train_df = pd.DataFrame(np.take(rn, train_index), columns=[\"x\"])\n",
        "        train_df[\"val\"] = i - shift\n",
        "        train = train.append(train_df)\n",
        "\n",
        "        test_df = pd.DataFrame(np.take(rn, test_index), columns=[\"x\"])\n",
        "        test_df[\"val\"] = i + shift\n",
        "        test = test.append(test_df)\n",
        "        i += 1\n",
        "    return train, test\n",
        "\n",
        "\n",
        "train10, test10 = kfoldize2(kf10,rn)\n",
        "\n",
        "\n",
        "plt.scatter(x=\"x\",y=\"val\",c=\"b\",label=\"train\",s=5,data=train10)\n",
        "plt.scatter(x=\"x\",y=\"val\",c=\"r\",label=\"validation\",s=5,data=test10)\n",
        "plt.ylabel(\"Kfold\")\n",
        "plt.xlabel(\"total samples\")\n",
        "plt.suptitle(\"Kfold split between train and validation features\")\n",
        "plt.legend(bbox_to_anchor=(1.05, 1))\n",
        "plt.show()"
      ],
      "execution_count": 78,
      "outputs": [
        {
          "output_type": "display_data",
          "data": {
            "image/png": "[encoded data removed]",
            "text/plain": [
              "<Figure size 432x288 with 1 Axes>"
            ]
          },
          "metadata": {
            "tags": [],
            "needs_background": "light"
          }
        }
      ]
    },
    {
      "cell_type": "markdown",
      "metadata": {
        "id": "hLGUg6SQKVwy",
        "colab_type": "text"
      },
      "source": [
        "##Classifiers evaluation on original dataset"
      ]
    },
    {
      "cell_type": "markdown",
      "metadata": {
        "id": "uYL7lGB6sMq4",
        "colab_type": "text"
      },
      "source": [
        "###Linear SVM"
      ]
    },
    {
      "cell_type": "code",
      "metadata": {
        "id": "SUAdsl8nxXdp",
        "colab_type": "code",
        "colab": {
          "base_uri": "https://localhost:8080/",
          "height": 386
        },
        "outputId": "3d234b93-2fac-432a-f640-8b938cf03fb5"
      },
      "source": [
        "C_best=0\n",
        "acc_best=0\n",
        "\n",
        "for C in [0.001, 0.01, 0.1, 1, 10, 100,1000]:\n",
        "  \n",
        "  print(\"analyzing C={}\".format(C))\n",
        "  \n",
        "  fold = 0\n",
        "  acc_array_SVM=[0,0,0,0,0,0,0,0,0,0]\n",
        "  for train_index, test_index in kf10.split(trainDf):\n",
        "      X_train = trainDf.iloc[train_index].loc[:, features]\n",
        "      X_val = trainDf.iloc[test_index][features]\n",
        "      y_train = trainDf.iloc[train_index].loc[:,'DEATH_EVENT']\n",
        "      y_val = trainDf.loc[test_index]['DEATH_EVENT']\n",
        "\n",
        "      #linear svm application \n",
        "      \n",
        "      \n",
        "\n",
        "      #print(\"Analyzing fold {} ...\".format(fold))\n",
        "\n",
        "    \n",
        "      #train the data on the training set\n",
        "      clf=svm.SVC(kernel='linear', C=C)\n",
        "      clf.fit(X_train,y_train) #fit is used to train your pattern with some training data\n",
        "    \n",
        "      #evaluate the method on the validation set \n",
        "   \n",
        "      y_p_SVM=clf.predict(X_val)\n",
        "      acc_array_SVM[fold]= accuracy_score(y_val,y_p_SVM)\n",
        "      fold=fold+1\n",
        "    \n",
        "  #get the mean of the accuracies for each C\n",
        "  print(\"total accuracy of the model after Cross Validation is:\",mean(acc_array_SVM) * 100)\n",
        "  \n",
        "\n",
        "  #searching for the best hyperparameter\n",
        "  if (mean(acc_array_SVM)>acc_best):\n",
        "    C_best=C\n",
        "    acc_best=mean(acc_array_SVM)\n",
        "    bestModel=clf\n",
        "\n",
        "\n",
        "print(\"\\n\")\n",
        "print(\"Best hyperparameter for the model is C={}\".format(C_best)) \n",
        "\n",
        "#Testing the model on the test set with the best hyperparameters\n",
        "print(\"Testing the model on the test set with the best hyperparameter\")\n",
        "y_onTest_SVM=bestModel.predict(x_test_noPca)\n",
        "\n",
        "acc_on_Test= accuracy_score(y_test_noPca,y_onTest_SVM)\n",
        "precision_on_Test = precision_score(y_test_noPca, y_onTest_SVM, average='macro')\n",
        "recall_on_Test=recall_score(y_test_noPca, y_onTest_SVM, average='macro')\n",
        "f1_on_Test=f1_score(y_test_noPca, y_onTest_SVM, average='macro')\n",
        "print(\"Accuracy on test set={}\".format(acc_on_Test))\n",
        "print(\"Precision on test set={}\".format(precision_on_Test))\n",
        "print(\"Recall on test set={}\".format(recall_on_Test)) \n",
        "print(\"F1 score on test set={}\".format(f1_on_Test))\n",
        "\n",
        "acc_original_cv[0]=acc_on_Test\n",
        "f1_original_cv[0]=f1_on_Test\n"
      ],
      "execution_count": 79,
      "outputs": [
        {
          "output_type": "stream",
          "text": [
            "analyzing C=0.001\n",
            "total accuracy of the model after Cross Validation is: 68.2427536231884\n",
            "analyzing C=0.01\n",
            "total accuracy of the model after Cross Validation is: 70.63405797101449\n",
            "analyzing C=0.1\n",
            "total accuracy of the model after Cross Validation is: 80.70652173913044\n",
            "analyzing C=1\n",
            "total accuracy of the model after Cross Validation is: 80.76086956521739\n",
            "analyzing C=10\n",
            "total accuracy of the model after Cross Validation is: 81.19565217391305\n",
            "analyzing C=100\n",
            "total accuracy of the model after Cross Validation is: 81.19565217391302\n",
            "analyzing C=1000\n",
            "total accuracy of the model after Cross Validation is: 80.7427536231884\n",
            "\n",
            "\n",
            "Best hyperparameter for the model is C=10\n",
            "Testing the model on the test set with the best hyperparameter\n",
            "Accuracy on test set=0.7666666666666667\n",
            "Precision on test set=0.7375\n",
            "Recall on test set=0.7375\n",
            "F1 score on test set=0.7375\n"
          ],
          "name": "stdout"
        }
      ]
    },
    {
      "cell_type": "markdown",
      "metadata": {
        "id": "ZDHKutuU18uP",
        "colab_type": "text"
      },
      "source": [
        "###RBF Kernel SVM\n",
        "In order to try to increase the overall accuracy I try to apply the kernel trick.\n",
        "\n",
        "As before I apply it using cross validation to reduce overfitting"
      ]
    },
    {
      "cell_type": "code",
      "metadata": {
        "id": "4_Ui1JII32x2",
        "colab_type": "code",
        "colab": {
          "base_uri": "https://localhost:8080/",
          "height": 386
        },
        "outputId": "2713dc28-98d0-4ea9-ec6a-4bb399c3068e"
      },
      "source": [
        "C_best=0\n",
        "acc_best=0\n",
        "\n",
        "for C in [0.001, 0.01, 0.1, 1, 10, 100,1000]:\n",
        "  \n",
        "  print(\"analyzing C={}\".format(C))\n",
        "  \n",
        "  fold = 0\n",
        "  acc_array_SVM=[0,0,0,0,0,0,0,0,0,0]\n",
        "  for train_index, test_index in kf10.split(trainDf):\n",
        "      X_train = trainDf.iloc[train_index].loc[:, features]\n",
        "      X_val = trainDf.iloc[test_index][features]\n",
        "      y_train = trainDf.iloc[train_index].loc[:,'DEATH_EVENT']\n",
        "      y_val = trainDf.loc[test_index]['DEATH_EVENT']\n",
        "\n",
        "      #linear svm application \n",
        "      \n",
        "      \n",
        "\n",
        "      #print(\"Analyzing fold {} ...\".format(fold))\n",
        "\n",
        "    \n",
        "      #train the data on the training set\n",
        "      clf=svm.SVC(kernel='rbf', C=C)\n",
        "      clf.fit(X_train,y_train) #fit is used to train your pattern with some training data\n",
        "    \n",
        "      #evaluate the method on the validation set \n",
        "   \n",
        "      y_p_SVM=clf.predict(X_val)\n",
        "      acc_array_SVM[fold]= accuracy_score(y_val,y_p_SVM)\n",
        "      fold=fold+1\n",
        "    \n",
        "  #get the mean of the accuracies for each fold\n",
        "  print(\"total accuracy of the model after Cross Validation is:\",mean(acc_array_SVM) * 100)\n",
        "  \n",
        "\n",
        "  #searching for the best hyperparameter in the fold\n",
        "  if (mean(acc_array_SVM)>acc_best):\n",
        "    C_best=C\n",
        "    acc_best=mean(acc_array_SVM)\n",
        "    bestModel=clf\n",
        "\n",
        "\n",
        "print(\"\\n\")\n",
        "print(\"Best hyperparameter for the model is C={}\".format(C_best)) \n",
        "\n",
        "#Testing the model on the test set with the best hyperparameters\n",
        "print(\"Testing the model on the test set with the best hyperparameter\")\n",
        "y_onTest_SVMRBF=bestModel.predict(x_test_noPca)\n",
        "precision_on_Test = precision_score(y_test_noPca, y_onTest_SVMRBF, average='macro')\n",
        "recall_on_Test=recall_score(y_test_noPca, y_onTest_SVMRBF, average='macro')\n",
        "f1_on_Test=f1_score(y_test_noPca, y_onTest_SVMRBF, average='macro')\n",
        "\n",
        "acc_on_Test= accuracy_score(y_test_noPca,y_onTest_SVMRBF)\n",
        "print(\"Accuracy on test set={}\".format(acc_on_Test))\n",
        "print(\"Precision on test set={}\".format(precision_on_Test))\n",
        "print(\"Recall on test set={}\".format(recall_on_Test)) \n",
        "print(\"F1 score on test set={}\".format(f1_on_Test))\n",
        "acc_original_cv[1]=acc_on_Test\n",
        "f1_original_cv[1]=f1_on_Test"
      ],
      "execution_count": 80,
      "outputs": [
        {
          "output_type": "stream",
          "text": [
            "analyzing C=0.001\n",
            "total accuracy of the model after Cross Validation is: 68.22463768115942\n",
            "analyzing C=0.01\n",
            "total accuracy of the model after Cross Validation is: 68.22463768115942\n",
            "analyzing C=0.1\n",
            "total accuracy of the model after Cross Validation is: 68.11594202898551\n",
            "analyzing C=1\n",
            "total accuracy of the model after Cross Validation is: 79.13043478260869\n",
            "analyzing C=10\n",
            "total accuracy of the model after Cross Validation is: 75.30797101449276\n",
            "analyzing C=100\n",
            "total accuracy of the model after Cross Validation is: 76.9927536231884\n",
            "analyzing C=1000\n",
            "total accuracy of the model after Cross Validation is: 74.45652173913044\n",
            "\n",
            "\n",
            "Best hyperparameter for the model is C=1\n",
            "Testing the model on the test set with the best hyperparameter\n",
            "Accuracy on test set=0.8\n",
            "Precision on test set=0.7749999999999999\n",
            "Recall on test set=0.7749999999999999\n",
            "F1 score on test set=0.7749999999999999\n"
          ],
          "name": "stdout"
        }
      ]
    },
    {
      "cell_type": "markdown",
      "metadata": {
        "id": "FUZeYUeY4o13",
        "colab_type": "text"
      },
      "source": [
        "linear SVM model performs better"
      ]
    },
    {
      "cell_type": "markdown",
      "metadata": {
        "id": "vAflOmDD5fZn",
        "colab_type": "text"
      },
      "source": [
        "###Logistic regression "
      ]
    },
    {
      "cell_type": "code",
      "metadata": {
        "id": "CJUDeCq_43OQ",
        "colab_type": "code",
        "colab": {
          "base_uri": "https://localhost:8080/",
          "height": 101
        },
        "outputId": "ce80b9f8-bff3-414c-ecd3-f070e07b60b0"
      },
      "source": [
        "\n",
        "fold = 0\n",
        "acc_array_LR=[0,0,0,0,0,0,0,0,0,0]\n",
        "for train_index, test_index in kf10.split(trainDf):\n",
        "      X_train = trainDf.iloc[train_index].loc[:, features]\n",
        "      X_val = trainDf.iloc[test_index][features]\n",
        "      y_train = trainDf.iloc[train_index].loc[:,'DEATH_EVENT']\n",
        "      y_val = trainDf.loc[test_index]['DEATH_EVENT']\n",
        "\n",
        "\n",
        "      clf = LogisticRegression(random_state=0).fit(X_train,y_train)\n",
        "      y_p_LR=clf.predict(X_val)\n",
        "      acc_array_LR[fold]= accuracy_score(y_val,y_p_LR)\n",
        "      fold=fold+1\n",
        "#get the mean of the accuracies for each fold\n",
        "print(\"total accuracy of the model after Cross Validation is:\",mean(acc_array_LR) * 100)      \n",
        "\n",
        "y_onTest_LR=clf.predict(x_test_noPca)\n",
        "\n",
        "acc_on_Test= accuracy_score(y_test_noPca,y_onTest_LR)\n",
        "precision_on_Test = precision_score(y_test_noPca, y_onTest_LR, average='macro')\n",
        "recall_on_Test=recall_score(y_test_noPca, y_onTest_LR, average='macro')\n",
        "f1_on_Test=f1_score(y_test_noPca, y_onTest_LR, average='macro')\n",
        "print(\"Accuracy on test set={}\".format(acc_on_Test))\n",
        "print(\"Precision on test set={}\".format(precision_on_Test))\n",
        "print(\"Recall on test set={}\".format(recall_on_Test)) \n",
        "print(\"F1 score on test set={}\".format(f1_on_Test))\n",
        "acc_original_cv[2]=acc_on_Test\n",
        "f1_original_cv[2]=f1_on_Test"
      ],
      "execution_count": 81,
      "outputs": [
        {
          "output_type": "stream",
          "text": [
            "total accuracy of the model after Cross Validation is: 81.99275362318842\n",
            "Accuracy on test set=0.7833333333333333\n",
            "Precision on test set=0.7585193889541716\n",
            "Recall on test set=0.775\n",
            "F1 score on test set=0.7644216248867413\n"
          ],
          "name": "stdout"
        }
      ]
    },
    {
      "cell_type": "markdown",
      "metadata": {
        "id": "ljf5Zc_-Vp-T",
        "colab_type": "text"
      },
      "source": [
        "###Random forest"
      ]
    },
    {
      "cell_type": "code",
      "metadata": {
        "id": "gui_Q-mNVpgW",
        "colab_type": "code",
        "colab": {
          "base_uri": "https://localhost:8080/",
          "height": 101
        },
        "outputId": "deeb50f0-cbe5-4674-cbfa-2455d3c4e36b"
      },
      "source": [
        "\n",
        "fold = 0\n",
        "acc_array_RF=[0,0,0,0,0,0,0,0,0,0]\n",
        "for train_index, test_index in kf10.split(trainDf):\n",
        "      X_train = trainDf.iloc[train_index].loc[:, features]\n",
        "      X_val = trainDf.iloc[test_index][features]\n",
        "      y_train = trainDf.iloc[train_index].loc[:,'DEATH_EVENT']\n",
        "      y_val = trainDf.loc[test_index]['DEATH_EVENT']\n",
        "\n",
        "\n",
        "      clf = RandomForestClassifier(max_depth=10, random_state=0).fit(X_train,y_train)\n",
        "      y_p_RF=clf.predict(X_val)\n",
        "\n",
        "      \n",
        "      acc_array_RF[fold]= accuracy_score(y_val,y_p_RF)\n",
        "      fold=fold+1\n",
        "#get the mean of the accuracies for each fold\n",
        "print(\"total accuracy of the model after Cross Validation is:\",mean(acc_array_RF) * 100)      \n",
        "\n",
        "y_onTest_RF=clf.predict(x_test_noPca)\n",
        "\n",
        "acc_on_Test= accuracy_score(y_test_noPca,y_onTest_RF)\n",
        "precision_on_Test = precision_score(y_test_noPca, y_onTest_RF, average='macro')\n",
        "recall_on_Test=recall_score(y_test_noPca, y_onTest_RF, average='macro')\n",
        "f1_on_Test=f1_score(y_test_noPca, y_onTest_RF, average='macro')\n",
        "print(\"Accuracy on test set={}\".format(acc_on_Test))\n",
        "print(\"Precision on test set={}\".format(precision_on_Test))\n",
        "print(\"Recall on test set={}\".format(recall_on_Test)) \n",
        "print(\"F1 score on test set={}\".format(f1_on_Test))\n",
        "acc_original_cv[3]=acc_on_Test\n",
        "f1_original_cv[3]=f1_on_Test\n"
      ],
      "execution_count": 82,
      "outputs": [
        {
          "output_type": "stream",
          "text": [
            "total accuracy of the model after Cross Validation is: 83.29710144927537\n",
            "Accuracy on test set=0.8833333333333333\n",
            "Precision on test set=0.8722721437740693\n",
            "Recall on test set=0.8625\n",
            "F1 score on test set=0.8670465337132003\n"
          ],
          "name": "stdout"
        }
      ]
    },
    {
      "cell_type": "markdown",
      "metadata": {
        "id": "4JNOrbvMJnMI",
        "colab_type": "text"
      },
      "source": [
        "##Classifiers with smote oversampling tecnique"
      ]
    },
    {
      "cell_type": "markdown",
      "metadata": {
        "id": "ifkoBi7PdYAD",
        "colab_type": "text"
      },
      "source": [
        "###Linear SVM"
      ]
    },
    {
      "cell_type": "code",
      "metadata": {
        "id": "TH28Opc8dc7O",
        "colab_type": "code",
        "colab": {
          "base_uri": "https://localhost:8080/",
          "height": 386
        },
        "outputId": "efa84657-aaa0-49b3-eab1-33a2d9c12e36"
      },
      "source": [
        "C_best=0\n",
        "acc_best=0\n",
        "\n",
        "for C in [0.001, 0.01, 0.1, 1, 10, 100,1000]:\n",
        "  \n",
        "  print(\"analyzing C={}\".format(C))\n",
        "  \n",
        "  fold = 0\n",
        "  acc_array_SVM=[0,0,0,0,0,0,0,0,0,0]\n",
        "  for train_index, test_index in kf10.split(trainDf):\n",
        "      X_train = trainDf.iloc[train_index].loc[:, features].values\n",
        "      X_val = trainDf.iloc[test_index][features].values\n",
        "      y_train = trainDf.iloc[train_index].loc[:,'DEATH_EVENT'].values\n",
        "      y_val = trainDf.loc[test_index]['DEATH_EVENT'].values\n",
        "\n",
        "      #apply smote\n",
        "      unique, counts = np.unique(y_train, return_counts=True)\n",
        "      minority_shape = dict(zip(unique, counts))[1]\n",
        "      x1 = np.ones((minority_shape, X_train.shape[1]))\n",
        "      k=0\n",
        "      for i in range(0,X_train.shape[0]):\n",
        "          \n",
        "          if y_train[i] == 1:\n",
        "              \n",
        "              x1[k] = X_train[i]\n",
        "              k = k + 1\n",
        "      sampled_instances = SMOTE_100(x1)\n",
        "      \n",
        "      X_f = np.concatenate((X_train,sampled_instances), axis = 0)\n",
        "      y_sampled_instances = np.ones(minority_shape)\n",
        "      \n",
        "      y_f = np.concatenate((y_train,y_sampled_instances), axis=0)\n",
        "      #train the data on the training set\n",
        "      clf=svm.SVC(kernel='linear', C=C)\n",
        "      clf.fit(X_f,y_f) #fit is used to train your pattern with some training data\n",
        "    \n",
        "      #evaluate the method on the validation set \n",
        "   \n",
        "      y_p_SVM=clf.predict(X_val)\n",
        "      acc_array_SVM[fold]= accuracy_score(y_val,y_p_SVM)\n",
        "      fold=fold+1\n",
        "    \n",
        "  #get the mean of the accuracies for each fold\n",
        "  print(\"total accuracy of the model after Cross Validation is:\",mean(acc_array_SVM) * 100)\n",
        "  \n",
        "\n",
        "  #searching for the best hyperparameter in the fold\n",
        "  if (mean(acc_array_SVM)>acc_best):\n",
        "    C_best=C\n",
        "    acc_best=mean(acc_array_SVM)\n",
        "    bestModel=clf\n",
        "\n",
        "\n",
        "print(\"\\n\")\n",
        "print(\"Best hyperparameter for the model is C={}\".format(C_best)) \n",
        "\n",
        "#Testing the model on the test set with the best hyperparameters\n",
        "print(\"Testing the model on the test set with the best hyperparameter\")\n",
        "y_onTest_SVM=bestModel.predict(x_test_noPca)\n",
        "\n",
        "acc_on_Test= accuracy_score(y_test_noPca,y_onTest_SVM)\n",
        "precision_on_Test = precision_score(y_test_noPca, y_onTest_SVM, average='macro')\n",
        "recall_on_Test=recall_score(y_test_noPca, y_onTest_SVM, average='macro')\n",
        "f1_on_Test=f1_score(y_test_noPca, y_onTest_SVM, average='macro')\n",
        "print(\"Accuracy on test set with smote={}\".format(acc_on_Test))\n",
        "print(\"Precision on test set with smote={}\".format(precision_on_Test))\n",
        "print(\"Recall on test set with smote={}\".format(recall_on_Test)) \n",
        "print(\"F1 score on test set with smote={}\".format(f1_on_Test))\n",
        "\n",
        "acc_smote_cv[0]=acc_on_Test\n",
        "f1_smote_cv[0]=f1_on_Test\n"
      ],
      "execution_count": 83,
      "outputs": [
        {
          "output_type": "stream",
          "text": [
            "analyzing C=0.001\n",
            "total accuracy of the model after Cross Validation is: 69.8913043478261\n",
            "analyzing C=0.01\n",
            "total accuracy of the model after Cross Validation is: 76.97463768115942\n",
            "analyzing C=0.1\n",
            "total accuracy of the model after Cross Validation is: 77.80797101449275\n",
            "analyzing C=1\n",
            "total accuracy of the model after Cross Validation is: 78.2427536231884\n",
            "analyzing C=10\n",
            "total accuracy of the model after Cross Validation is: 79.09420289855072\n",
            "analyzing C=100\n",
            "total accuracy of the model after Cross Validation is: 80.32608695652173\n",
            "analyzing C=1000\n",
            "total accuracy of the model after Cross Validation is: 82.01086956521738\n",
            "\n",
            "\n",
            "Best hyperparameter for the model is C=1000\n",
            "Testing the model on the test set with the best hyperparameter\n",
            "Accuracy on test set with smote=0.8166666666666667\n",
            "Precision on test set with smote=0.7937720329024677\n",
            "Recall on test set with smote=0.8125\n",
            "F1 score on test set with smote=0.8006644518272426\n"
          ],
          "name": "stdout"
        }
      ]
    },
    {
      "cell_type": "markdown",
      "metadata": {
        "id": "DAB-bfLJn-rV",
        "colab_type": "text"
      },
      "source": [
        "###RBF Kernel SVM"
      ]
    },
    {
      "cell_type": "code",
      "metadata": {
        "id": "VzWyF8Tun_jM",
        "colab_type": "code",
        "colab": {
          "base_uri": "https://localhost:8080/",
          "height": 386
        },
        "outputId": "f9e9a536-5d78-4d2f-87f6-c81d113564fe"
      },
      "source": [
        "C_best=0\n",
        "acc_best=0\n",
        "\n",
        "for C in [0.001, 0.01, 0.1, 1, 10, 100,1000]:\n",
        "  \n",
        "  print(\"analyzing C={}\".format(C))\n",
        "  \n",
        "  fold = 0\n",
        "  acc_array_SVM=[0,0,0,0,0,0,0,0,0,0]\n",
        "  for train_index, test_index in kf10.split(trainDf):\n",
        "      X_train = trainDf.iloc[train_index].loc[:, features].values\n",
        "      X_val = trainDf.iloc[test_index][features].values\n",
        "      y_train = trainDf.iloc[train_index].loc[:,'DEATH_EVENT'].values\n",
        "      y_val = trainDf.loc[test_index]['DEATH_EVENT'].values\n",
        "\n",
        "      #apply smote\n",
        "      unique, counts = np.unique(y_train, return_counts=True)\n",
        "      minority_shape = dict(zip(unique, counts))[1]\n",
        "      x1 = np.ones((minority_shape, X_train.shape[1]))\n",
        "      k=0\n",
        "      for i in range(0,X_train.shape[0]):\n",
        "          \n",
        "          if y_train[i] == 1:\n",
        "              \n",
        "              x1[k] = X_train[i]\n",
        "              k = k + 1\n",
        "      sampled_instances = SMOTE_100(x1)\n",
        "      X_f = np.concatenate((X_train,sampled_instances), axis = 0)\n",
        "      y_sampled_instances = np.ones(minority_shape)\n",
        "      y_f = np.concatenate((y_train,y_sampled_instances), axis=0)\n",
        "    \n",
        "\n",
        "    \n",
        "      #train the data on the training set\n",
        "      clf=svm.SVC(kernel='rbf', C=C)\n",
        "      clf.fit(X_f,y_f) #fit is used to train your pattern with some training data\n",
        "    \n",
        "      #evaluate the method on the validation set \n",
        "   \n",
        "      y_p_SVM=clf.predict(X_val)\n",
        "      acc_array_SVM[fold]= accuracy_score(y_val,y_p_SVM)\n",
        "      fold=fold+1\n",
        "    \n",
        "  #get the mean of the accuracies for each fold\n",
        "  print(\"total accuracy of the model after Cross Validation is:\",mean(acc_array_SVM) * 100)\n",
        "  \n",
        "\n",
        "  #searching for the best hyperparameter in the fold\n",
        "  if (mean(acc_array_SVM)>acc_best):\n",
        "    C_best=C\n",
        "    acc_best=mean(acc_array_SVM)\n",
        "    bestModel=clf\n",
        "\n",
        "\n",
        "print(\"\\n\")\n",
        "print(\"Best hyperparameter for the model is C={}\".format(C_best)) \n",
        "\n",
        "#Testing the model on the test set with the best hyperparameters\n",
        "print(\"Testing the model on the test set with the best hyperparameter\")\n",
        "y_onTest_SVMRBF=bestModel.predict(x_test_noPca)\n",
        "precision_on_Test = precision_score(y_test_noPca, y_onTest_SVMRBF, average='macro')\n",
        "recall_on_Test=recall_score(y_test_noPca, y_onTest_SVMRBF, average='macro')\n",
        "f1_on_Test=f1_score(y_test_noPca, y_onTest_SVMRBF, average='macro')\n",
        "\n",
        "acc_on_Test= accuracy_score(y_test_noPca,y_onTest_SVMRBF)\n",
        "print(\"Accuracy on test set with smote={}\".format(acc_on_Test))\n",
        "print(\"Precision on test set with smote={}\".format(precision_on_Test))\n",
        "print(\"Recall on test set with smote={}\".format(recall_on_Test)) \n",
        "print(\"F1 score on test set with smote={}\".format(f1_on_Test))\n",
        "\n",
        "acc_smote_cv[1]=acc_on_Test\n",
        "f1_smote_cv[1]=f1_on_Test"
      ],
      "execution_count": 84,
      "outputs": [
        {
          "output_type": "stream",
          "text": [
            "analyzing C=0.001\n",
            "total accuracy of the model after Cross Validation is: 68.2427536231884\n",
            "analyzing C=0.01\n",
            "total accuracy of the model after Cross Validation is: 61.52173913043478\n",
            "analyzing C=0.1\n",
            "total accuracy of the model after Cross Validation is: 76.19565217391305\n",
            "analyzing C=1\n",
            "total accuracy of the model after Cross Validation is: 79.07608695652175\n",
            "analyzing C=10\n",
            "total accuracy of the model after Cross Validation is: 74.89130434782606\n",
            "analyzing C=100\n",
            "total accuracy of the model after Cross Validation is: 74.87318840579708\n",
            "analyzing C=1000\n",
            "total accuracy of the model after Cross Validation is: 69.05797101449275\n",
            "\n",
            "\n",
            "Best hyperparameter for the model is C=1\n",
            "Testing the model on the test set with the best hyperparameter\n",
            "Accuracy on test set with smote=0.7666666666666667\n",
            "Precision on test set with smote=0.7392344497607655\n",
            "Recall on test set with smote=0.75\n",
            "F1 score on test set with smote=0.7435897435897436\n"
          ],
          "name": "stdout"
        }
      ]
    },
    {
      "cell_type": "markdown",
      "metadata": {
        "id": "bWEdELXLowvX",
        "colab_type": "text"
      },
      "source": [
        "###Logistic regression"
      ]
    },
    {
      "cell_type": "code",
      "metadata": {
        "id": "vpuP0-Mpo3RZ",
        "colab_type": "code",
        "colab": {
          "base_uri": "https://localhost:8080/",
          "height": 101
        },
        "outputId": "6de2bb4b-6a15-4320-88fb-38c919d6abc4"
      },
      "source": [
        "fold = 0\n",
        "acc_array_LR=[0,0,0,0,0,0,0,0,0,0]\n",
        "for train_index, test_index in kf10.split(trainDf):\n",
        "      X_train = trainDf.iloc[train_index].loc[:, features].values\n",
        "      X_val = trainDf.iloc[test_index][features].values\n",
        "      y_train = trainDf.iloc[train_index].loc[:,'DEATH_EVENT'].values\n",
        "      y_val = trainDf.loc[test_index]['DEATH_EVENT'].values\n",
        "\n",
        "      #apply smote\n",
        "      unique, counts = np.unique(y_train, return_counts=True)\n",
        "      minority_shape = dict(zip(unique, counts))[1]\n",
        "      x1 = np.ones((minority_shape, X_train.shape[1]))\n",
        "      k=0\n",
        "      for i in range(0,X_train.shape[0]):\n",
        "          \n",
        "          if y_train[i] == 1:\n",
        "              \n",
        "              x1[k] = X_train[i]\n",
        "              k = k + 1\n",
        "      sampled_instances = SMOTE_100(x1)\n",
        "      X_f = np.concatenate((X_train,sampled_instances), axis = 0)\n",
        "      y_sampled_instances = np.ones(minority_shape)\n",
        "      y_f = np.concatenate((y_train,y_sampled_instances), axis=0)\n",
        "\n",
        "\n",
        "\n",
        "\n",
        "      clf = LogisticRegression(random_state=0).fit(X_f,y_f)\n",
        "      y_p_LR=clf.predict(X_val)\n",
        "      acc_array_LR[fold]= accuracy_score(y_val,y_p_LR)\n",
        "      fold=fold+1\n",
        "#get the mean of the accuracies for each fold\n",
        "print(\"total accuracy of the model after Cross Validation is:\",mean(acc_array_LR) * 100)      \n",
        "\n",
        "y_onTest_LR=clf.predict(x_test_noPca)\n",
        "\n",
        "acc_on_Test= accuracy_score(y_test_noPca,y_onTest_LR)\n",
        "precision_on_Test = precision_score(y_test_noPca, y_onTest_LR, average='macro')\n",
        "recall_on_Test=recall_score(y_test_noPca, y_onTest_LR, average='macro')\n",
        "f1_on_Test=f1_score(y_test_noPca, y_onTest_LR, average='macro')\n",
        "print(\"Accuracy on test set with smote={}\".format(acc_on_Test))\n",
        "print(\"Precision on test set= with smote{}\".format(precision_on_Test))\n",
        "print(\"Recall on test set with smote={}\".format(recall_on_Test)) \n",
        "print(\"F1 score on test set with smote={}\".format(f1_on_Test))\n",
        "acc_smote_cv[2]=acc_on_Test\n",
        "f1_smote_cv[2]=f1_on_Test"
      ],
      "execution_count": 85,
      "outputs": [
        {
          "output_type": "stream",
          "text": [
            "total accuracy of the model after Cross Validation is: 77.46376811594202\n",
            "Accuracy on test set with smote=0.7833333333333333\n",
            "Precision on test set= with smote0.7564102564102564\n",
            "Recall on test set with smote=0.7625\n",
            "F1 score on test set with smote=0.7591849336214881\n"
          ],
          "name": "stdout"
        }
      ]
    },
    {
      "cell_type": "markdown",
      "metadata": {
        "id": "D4tJTQ_qpU3i",
        "colab_type": "text"
      },
      "source": [
        "###Random forest"
      ]
    },
    {
      "cell_type": "code",
      "metadata": {
        "id": "rqfzx5DZpUk7",
        "colab_type": "code",
        "colab": {
          "base_uri": "https://localhost:8080/",
          "height": 101
        },
        "outputId": "aa9b8f31-25ba-4079-eec2-f9a99294f8e1"
      },
      "source": [
        "fold = 0\n",
        "acc_array_RF=[0,0,0,0,0,0,0,0,0,0]\n",
        "for train_index, test_index in kf10.split(trainDf):\n",
        "      X_train = trainDf.iloc[train_index].loc[:, features].values\n",
        "      X_val = trainDf.iloc[test_index][features].values\n",
        "      y_train = trainDf.iloc[train_index].loc[:,'DEATH_EVENT'].values\n",
        "      y_val = trainDf.loc[test_index]['DEATH_EVENT'].values\n",
        "\n",
        "\n",
        "      #apply smote\n",
        "      unique, counts = np.unique(y_train, return_counts=True)\n",
        "      minority_shape = dict(zip(unique, counts))[1]\n",
        "      x1 = np.ones((minority_shape, X_train.shape[1]))\n",
        "      k=0\n",
        "      for i in range(0,X_train.shape[0]):\n",
        "          \n",
        "          if y_train[i] == 1:\n",
        "              \n",
        "              x1[k] = X_train[i]\n",
        "              k = k + 1\n",
        "      sampled_instances = SMOTE_100(x1)\n",
        "      X_f = np.concatenate((X_train,sampled_instances), axis = 0)\n",
        "      y_sampled_instances = np.ones(minority_shape)\n",
        "      y_f = np.concatenate((y_train,y_sampled_instances), axis=0)\n",
        "\n",
        "\n",
        "      clf = RandomForestClassifier(max_depth=10, random_state=0).fit(X_f,y_f)\n",
        "      y_p_RF=clf.predict(X_val)\n",
        "\n",
        "      \n",
        "      acc_array_RF[fold]= accuracy_score(y_val,y_p_RF)\n",
        "      fold=fold+1\n",
        "#get the mean of the accuracies for each fold\n",
        "print(\"total accuracy of the model after Cross Validation is:\",mean(acc_array_RF) * 100)      \n",
        "\n",
        "y_onTest_RF=clf.predict(x_test_noPca)\n",
        "\n",
        "acc_on_Test= accuracy_score(y_test_noPca,y_onTest_RF)\n",
        "precision_on_Test = precision_score(y_test_noPca, y_onTest_RF, average='macro')\n",
        "recall_on_Test=recall_score(y_test_noPca, y_onTest_RF, average='macro')\n",
        "f1_on_Test=f1_score(y_test_noPca, y_onTest_RF, average='macro')\n",
        "print(\"Accuracy on test set with smote={}\".format(acc_on_Test))\n",
        "print(\"Precision on test set with smote={}\".format(precision_on_Test))\n",
        "print(\"Recall on test set with smote={}\".format(recall_on_Test)) \n",
        "print(\"F1 score on test set with smote={}\".format(f1_on_Test))\n",
        "\n",
        "acc_smote_cv[3]=acc_on_Test\n",
        "f1_smote_cv[3]=f1_on_Test"
      ],
      "execution_count": 86,
      "outputs": [
        {
          "output_type": "stream",
          "text": [
            "total accuracy of the model after Cross Validation is: 84.8913043478261\n",
            "Accuracy on test set with smote=0.8666666666666667\n",
            "Precision on test set with smote=0.8500000000000001\n",
            "Recall on test set with smote=0.8500000000000001\n",
            "F1 score on test set with smote=0.8500000000000001\n"
          ],
          "name": "stdout"
        }
      ]
    },
    {
      "cell_type": "markdown",
      "metadata": {
        "id": "zJ68asRjed_M",
        "colab_type": "text"
      },
      "source": [
        "#Results"
      ]
    },
    {
      "cell_type": "code",
      "metadata": {
        "id": "8cB-F5JorinM",
        "colab_type": "code",
        "colab": {
          "base_uri": "https://localhost:8080/",
          "height": 233
        },
        "outputId": "76fad309-9a69-4001-f220-9d6ce54a47d5"
      },
      "source": [
        "\n",
        "\n",
        "\n",
        "result_Table =pd.DataFrame({'model': ['Linear SVM', 'RBF Kernel SVM','Logistic Regression','Random Forest'], 'Holdout Original Accuracy': acc_original, 'Holdout Original F1': f1_original, 'Holdout SMOTE Accuracy': acc_smote, 'Holdout SMOTE F1': f1_smote, 'Holdout Original CV Accuracy':acc_original_cv, 'Holdout Original CV F1': f1_original_cv, 'Holdout SMOTE CV Accuracy': acc_smote_cv,'Holdout SMOTE CV F1': f1_smote_cv})\n",
        "result_Table"
      ],
      "execution_count": 87,
      "outputs": [
        {
          "output_type": "execute_result",
          "data": {
            "text/html": [
              "<div>\n",
              "<style scoped>\n",
              "    .dataframe tbody tr th:only-of-type {\n",
              "        vertical-align: middle;\n",
              "    }\n",
              "\n",
              "    .dataframe tbody tr th {\n",
              "        vertical-align: top;\n",
              "    }\n",
              "\n",
              "    .dataframe thead th {\n",
              "        text-align: right;\n",
              "    }\n",
              "</style>\n",
              "<table border=\"1\" class=\"dataframe\">\n",
              "  <thead>\n",
              "    <tr style=\"text-align: right;\">\n",
              "      <th></th>\n",
              "      <th>model</th>\n",
              "      <th>Holdout Original Accuracy</th>\n",
              "      <th>Holdout Original F1</th>\n",
              "      <th>Holdout SMOTE Accuracy</th>\n",
              "      <th>Holdout SMOTE F1</th>\n",
              "      <th>Holdout Original CV Accuracy</th>\n",
              "      <th>Holdout Original CV F1</th>\n",
              "      <th>Holdout SMOTE CV Accuracy</th>\n",
              "      <th>Holdout SMOTE CV F1</th>\n",
              "    </tr>\n",
              "  </thead>\n",
              "  <tbody>\n",
              "    <tr>\n",
              "      <th>0</th>\n",
              "      <td>Linear SVM</td>\n",
              "      <td>0.783333</td>\n",
              "      <td>0.717289</td>\n",
              "      <td>0.816667</td>\n",
              "      <td>0.804444</td>\n",
              "      <td>0.766667</td>\n",
              "      <td>0.737500</td>\n",
              "      <td>0.816667</td>\n",
              "      <td>0.800664</td>\n",
              "    </tr>\n",
              "    <tr>\n",
              "      <th>1</th>\n",
              "      <td>RBF Kernel SVM</td>\n",
              "      <td>0.733333</td>\n",
              "      <td>0.712919</td>\n",
              "      <td>0.766667</td>\n",
              "      <td>0.730424</td>\n",
              "      <td>0.800000</td>\n",
              "      <td>0.775000</td>\n",
              "      <td>0.766667</td>\n",
              "      <td>0.743590</td>\n",
              "    </tr>\n",
              "    <tr>\n",
              "      <th>2</th>\n",
              "      <td>Logistic Regression</td>\n",
              "      <td>0.816667</td>\n",
              "      <td>0.796233</td>\n",
              "      <td>0.816667</td>\n",
              "      <td>0.796233</td>\n",
              "      <td>0.783333</td>\n",
              "      <td>0.764422</td>\n",
              "      <td>0.783333</td>\n",
              "      <td>0.759185</td>\n",
              "    </tr>\n",
              "    <tr>\n",
              "      <th>3</th>\n",
              "      <td>Random Forest</td>\n",
              "      <td>0.850000</td>\n",
              "      <td>0.833282</td>\n",
              "      <td>0.800000</td>\n",
              "      <td>0.775000</td>\n",
              "      <td>0.883333</td>\n",
              "      <td>0.867047</td>\n",
              "      <td>0.866667</td>\n",
              "      <td>0.850000</td>\n",
              "    </tr>\n",
              "  </tbody>\n",
              "</table>\n",
              "</div>"
            ],
            "text/plain": [
              "                 model  ...  Holdout SMOTE CV F1\n",
              "0           Linear SVM  ...             0.800664\n",
              "1       RBF Kernel SVM  ...             0.743590\n",
              "2  Logistic Regression  ...             0.759185\n",
              "3        Random Forest  ...             0.850000\n",
              "\n",
              "[4 rows x 9 columns]"
            ]
          },
          "metadata": {
            "tags": []
          },
          "execution_count": 87
        }
      ]
    }
  ]
}